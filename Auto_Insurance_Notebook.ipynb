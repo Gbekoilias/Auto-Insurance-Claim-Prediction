{
 "cells": [
  {
   "cell_type": "code",
   "execution_count": 1,
   "metadata": {},
   "outputs": [],
   "source": [
    "#import relevant libraries and packages\n",
    "import pandas as pd\n",
    "import numpy as np\n",
    "import matplotlib.pyplot as plt\n",
    "import seaborn as sns\n",
    "import os\n",
    "import warnings\n",
    "warnings.filterwarnings('ignore')"
   ]
  },
  {
   "cell_type": "code",
   "execution_count": 3,
   "metadata": {},
   "outputs": [
    {
     "data": {
      "text/html": [
       "<div>\n",
       "<style scoped>\n",
       "    .dataframe tbody tr th:only-of-type {\n",
       "        vertical-align: middle;\n",
       "    }\n",
       "\n",
       "    .dataframe tbody tr th {\n",
       "        vertical-align: top;\n",
       "    }\n",
       "\n",
       "    .dataframe thead th {\n",
       "        text-align: right;\n",
       "    }\n",
       "</style>\n",
       "<table border=\"1\" class=\"dataframe\">\n",
       "  <thead>\n",
       "    <tr style=\"text-align: right;\">\n",
       "      <th></th>\n",
       "      <th>ID</th>\n",
       "      <th>Policy Start Date</th>\n",
       "      <th>Policy End Date</th>\n",
       "      <th>Gender</th>\n",
       "      <th>Age</th>\n",
       "      <th>First Transaction Date</th>\n",
       "      <th>No_Pol</th>\n",
       "      <th>Car_Category</th>\n",
       "      <th>Subject_Car_Colour</th>\n",
       "      <th>Subject_Car_Make</th>\n",
       "      <th>LGA_Name</th>\n",
       "      <th>State</th>\n",
       "      <th>ProductName</th>\n",
       "      <th>target</th>\n",
       "    </tr>\n",
       "  </thead>\n",
       "  <tbody>\n",
       "    <tr>\n",
       "      <th>0</th>\n",
       "      <td>ID_00N7XT1</td>\n",
       "      <td>2010-07-06</td>\n",
       "      <td>2011-07-05</td>\n",
       "      <td>Female</td>\n",
       "      <td>71</td>\n",
       "      <td>2010-07-06</td>\n",
       "      <td>2</td>\n",
       "      <td>JEEP</td>\n",
       "      <td>Black</td>\n",
       "      <td>REXTON</td>\n",
       "      <td>Badagry</td>\n",
       "      <td>Benue</td>\n",
       "      <td>Car Classic</td>\n",
       "      <td>0</td>\n",
       "    </tr>\n",
       "    <tr>\n",
       "      <th>1</th>\n",
       "      <td>ID_01ZY7FF</td>\n",
       "      <td>2010-08-07</td>\n",
       "      <td>2011-08-06</td>\n",
       "      <td>Male</td>\n",
       "      <td>30</td>\n",
       "      <td>2010-08-07</td>\n",
       "      <td>1</td>\n",
       "      <td>Saloon</td>\n",
       "      <td>Grey</td>\n",
       "      <td>TOYOTA</td>\n",
       "      <td>Ikeja</td>\n",
       "      <td>Lagos</td>\n",
       "      <td>Car Classic</td>\n",
       "      <td>1</td>\n",
       "    </tr>\n",
       "    <tr>\n",
       "      <th>2</th>\n",
       "      <td>ID_022U6TV</td>\n",
       "      <td>2010-10-28</td>\n",
       "      <td>2011-10-27</td>\n",
       "      <td>Male</td>\n",
       "      <td>40</td>\n",
       "      <td>2010-10-28</td>\n",
       "      <td>2</td>\n",
       "      <td>Saloon</td>\n",
       "      <td>Black</td>\n",
       "      <td>Honda</td>\n",
       "      <td>Abuja Municipal</td>\n",
       "      <td>Abuja-Municipal</td>\n",
       "      <td>Car Classic</td>\n",
       "      <td>0</td>\n",
       "    </tr>\n",
       "    <tr>\n",
       "      <th>3</th>\n",
       "      <td>ID_02DJWEN</td>\n",
       "      <td>2010-01-23</td>\n",
       "      <td>2011-01-16</td>\n",
       "      <td>Male</td>\n",
       "      <td>41</td>\n",
       "      <td>2010-01-23</td>\n",
       "      <td>1</td>\n",
       "      <td>Saloon</td>\n",
       "      <td>Silver</td>\n",
       "      <td>TOYOTA</td>\n",
       "      <td>Yaba</td>\n",
       "      <td>Benue</td>\n",
       "      <td>Car Classic</td>\n",
       "      <td>0</td>\n",
       "    </tr>\n",
       "    <tr>\n",
       "      <th>4</th>\n",
       "      <td>ID_03U3I31</td>\n",
       "      <td>2010-09-06</td>\n",
       "      <td>2011-09-05</td>\n",
       "      <td>Male</td>\n",
       "      <td>39</td>\n",
       "      <td>2010-09-06</td>\n",
       "      <td>2</td>\n",
       "      <td>Saloon</td>\n",
       "      <td>Red</td>\n",
       "      <td>TOYOTA</td>\n",
       "      <td>Oshodi-Isolo</td>\n",
       "      <td>Oshodi-Isolo</td>\n",
       "      <td>Car Classic</td>\n",
       "      <td>0</td>\n",
       "    </tr>\n",
       "  </tbody>\n",
       "</table>\n",
       "</div>"
      ],
      "text/plain": [
       "           ID Policy Start Date Policy End Date  Gender  Age  \\\n",
       "0  ID_00N7XT1        2010-07-06      2011-07-05  Female   71   \n",
       "1  ID_01ZY7FF        2010-08-07      2011-08-06    Male   30   \n",
       "2  ID_022U6TV        2010-10-28      2011-10-27    Male   40   \n",
       "3  ID_02DJWEN        2010-01-23      2011-01-16    Male   41   \n",
       "4  ID_03U3I31        2010-09-06      2011-09-05    Male   39   \n",
       "\n",
       "  First Transaction Date  No_Pol Car_Category Subject_Car_Colour  \\\n",
       "0             2010-07-06       2         JEEP              Black   \n",
       "1             2010-08-07       1       Saloon               Grey   \n",
       "2             2010-10-28       2       Saloon              Black   \n",
       "3             2010-01-23       1       Saloon             Silver   \n",
       "4             2010-09-06       2       Saloon                Red   \n",
       "\n",
       "  Subject_Car_Make         LGA_Name            State  ProductName  target  \n",
       "0           REXTON          Badagry            Benue  Car Classic       0  \n",
       "1           TOYOTA            Ikeja            Lagos  Car Classic       1  \n",
       "2            Honda  Abuja Municipal  Abuja-Municipal  Car Classic       0  \n",
       "3           TOYOTA             Yaba            Benue  Car Classic       0  \n",
       "4           TOYOTA     Oshodi-Isolo     Oshodi-Isolo  Car Classic       0  "
      ]
     },
     "execution_count": 3,
     "metadata": {},
     "output_type": "execute_result"
    }
   ],
   "source": [
    "#read the data\n",
    "df = pd.read_csv('C:/Users/DONKAMS/Downloads/Project_STA2017/NigeriaAutoInsurance_Vehicle (1).csv')\n",
    "#check the data\n",
    "df.head()"
   ]
  },
  {
   "cell_type": "markdown",
   "metadata": {},
   "source": [
    "## This dataset seems to contain information relevant to insurance policies, with details about the insured individuals, their vehicles, policy specifics, and possibly some target variable for prediction or analysis."
   ]
  },
  {
   "cell_type": "markdown",
   "metadata": {},
   "source": [
    "### ID: Unique identifier for each policy holder.\n",
    "### Policy Start Date: The date when the insurance policy begins.\n",
    "### Policy End Date: The date when the insurance policy expires.\n",
    "### Gender: Gender of the policy holder.\n",
    "### Age: Age of the policy holder.\n",
    "### First Transaction Date: Date of the policy holder's first transaction with the insurance company.\n",
    "### No_Pol: Number of policies held by the individual.\n",
    "### Car_Category: Category or type of the insured vehicle (e.g., SUV, sedan, truck, etc.).\n",
    "### Subject_Car_Colour: Colour of the insured vehicle.\n",
    "### Subject_Car_Make: Make or manufacturer of the insured vehicle (e.g., Toyota, Honda, etc.).\n",
    "### LGA_Name: Local Government Area name.\n",
    "### State: State of residence of the policy holder.\n",
    "### ProductName: Type or name of the insurance product.\n",
    "### target: Possibly a binary classification indicating whether the policy holder is a target for something specific (e.g., renewal, promotion, risk assessment, etc.)."
   ]
  },
  {
   "cell_type": "markdown",
   "metadata": {},
   "source": [
    "### This appears to be a dataset related to insurance policies or perhaps automobile insurance."
   ]
  },
  {
   "cell_type": "code",
   "execution_count": 7,
   "metadata": {},
   "outputs": [
    {
     "data": {
      "text/html": [
       "<div>\n",
       "<style scoped>\n",
       "    .dataframe tbody tr th:only-of-type {\n",
       "        vertical-align: middle;\n",
       "    }\n",
       "\n",
       "    .dataframe tbody tr th {\n",
       "        vertical-align: top;\n",
       "    }\n",
       "\n",
       "    .dataframe thead th {\n",
       "        text-align: right;\n",
       "    }\n",
       "</style>\n",
       "<table border=\"1\" class=\"dataframe\">\n",
       "  <thead>\n",
       "    <tr style=\"text-align: right;\">\n",
       "      <th></th>\n",
       "      <th>ID</th>\n",
       "      <th>Policy Start Date</th>\n",
       "      <th>Policy End Date</th>\n",
       "      <th>Gender</th>\n",
       "      <th>Age</th>\n",
       "      <th>First Transaction Date</th>\n",
       "      <th>No_Pol</th>\n",
       "      <th>Car_Category</th>\n",
       "      <th>Subject_Car_Colour</th>\n",
       "      <th>Subject_Car_Make</th>\n",
       "      <th>LGA_Name</th>\n",
       "      <th>State</th>\n",
       "      <th>ProductName</th>\n",
       "      <th>target</th>\n",
       "    </tr>\n",
       "  </thead>\n",
       "  <tbody>\n",
       "    <tr>\n",
       "      <th>count</th>\n",
       "      <td>2667</td>\n",
       "      <td>2667</td>\n",
       "      <td>2667</td>\n",
       "      <td>2667</td>\n",
       "      <td>2667.000000</td>\n",
       "      <td>2667</td>\n",
       "      <td>2667.000000</td>\n",
       "      <td>2667</td>\n",
       "      <td>2667</td>\n",
       "      <td>2667</td>\n",
       "      <td>2667</td>\n",
       "      <td>2667</td>\n",
       "      <td>2667</td>\n",
       "      <td>2667.000000</td>\n",
       "    </tr>\n",
       "    <tr>\n",
       "      <th>unique</th>\n",
       "      <td>2667</td>\n",
       "      <td>344</td>\n",
       "      <td>350</td>\n",
       "      <td>6</td>\n",
       "      <td>NaN</td>\n",
       "      <td>344</td>\n",
       "      <td>NaN</td>\n",
       "      <td>14</td>\n",
       "      <td>34</td>\n",
       "      <td>45</td>\n",
       "      <td>202</td>\n",
       "      <td>88</td>\n",
       "      <td>9</td>\n",
       "      <td>NaN</td>\n",
       "    </tr>\n",
       "    <tr>\n",
       "      <th>top</th>\n",
       "      <td>ID_00N7XT1</td>\n",
       "      <td>2010-02-26</td>\n",
       "      <td>2011-02-25</td>\n",
       "      <td>Male</td>\n",
       "      <td>NaN</td>\n",
       "      <td>2010-02-26</td>\n",
       "      <td>NaN</td>\n",
       "      <td>Saloon</td>\n",
       "      <td>Black</td>\n",
       "      <td>TOYOTA</td>\n",
       "      <td>Victoria Island</td>\n",
       "      <td>Lagos</td>\n",
       "      <td>Car Classic</td>\n",
       "      <td>NaN</td>\n",
       "    </tr>\n",
       "    <tr>\n",
       "      <th>freq</th>\n",
       "      <td>1</td>\n",
       "      <td>30</td>\n",
       "      <td>29</td>\n",
       "      <td>1673</td>\n",
       "      <td>NaN</td>\n",
       "      <td>30</td>\n",
       "      <td>NaN</td>\n",
       "      <td>1507</td>\n",
       "      <td>1147</td>\n",
       "      <td>1377</td>\n",
       "      <td>332</td>\n",
       "      <td>1468</td>\n",
       "      <td>2210</td>\n",
       "      <td>NaN</td>\n",
       "    </tr>\n",
       "    <tr>\n",
       "      <th>mean</th>\n",
       "      <td>NaN</td>\n",
       "      <td>NaN</td>\n",
       "      <td>NaN</td>\n",
       "      <td>NaN</td>\n",
       "      <td>45.110611</td>\n",
       "      <td>NaN</td>\n",
       "      <td>1.499063</td>\n",
       "      <td>NaN</td>\n",
       "      <td>NaN</td>\n",
       "      <td>NaN</td>\n",
       "      <td>NaN</td>\n",
       "      <td>NaN</td>\n",
       "      <td>NaN</td>\n",
       "      <td>0.187477</td>\n",
       "    </tr>\n",
       "    <tr>\n",
       "      <th>std</th>\n",
       "      <td>NaN</td>\n",
       "      <td>NaN</td>\n",
       "      <td>NaN</td>\n",
       "      <td>NaN</td>\n",
       "      <td>18.732415</td>\n",
       "      <td>NaN</td>\n",
       "      <td>0.805725</td>\n",
       "      <td>NaN</td>\n",
       "      <td>NaN</td>\n",
       "      <td>NaN</td>\n",
       "      <td>NaN</td>\n",
       "      <td>NaN</td>\n",
       "      <td>NaN</td>\n",
       "      <td>0.390367</td>\n",
       "    </tr>\n",
       "    <tr>\n",
       "      <th>min</th>\n",
       "      <td>NaN</td>\n",
       "      <td>NaN</td>\n",
       "      <td>NaN</td>\n",
       "      <td>NaN</td>\n",
       "      <td>-27.000000</td>\n",
       "      <td>NaN</td>\n",
       "      <td>1.000000</td>\n",
       "      <td>NaN</td>\n",
       "      <td>NaN</td>\n",
       "      <td>NaN</td>\n",
       "      <td>NaN</td>\n",
       "      <td>NaN</td>\n",
       "      <td>NaN</td>\n",
       "      <td>0.000000</td>\n",
       "    </tr>\n",
       "    <tr>\n",
       "      <th>25%</th>\n",
       "      <td>NaN</td>\n",
       "      <td>NaN</td>\n",
       "      <td>NaN</td>\n",
       "      <td>NaN</td>\n",
       "      <td>36.000000</td>\n",
       "      <td>NaN</td>\n",
       "      <td>1.000000</td>\n",
       "      <td>NaN</td>\n",
       "      <td>NaN</td>\n",
       "      <td>NaN</td>\n",
       "      <td>NaN</td>\n",
       "      <td>NaN</td>\n",
       "      <td>NaN</td>\n",
       "      <td>0.000000</td>\n",
       "    </tr>\n",
       "    <tr>\n",
       "      <th>50%</th>\n",
       "      <td>NaN</td>\n",
       "      <td>NaN</td>\n",
       "      <td>NaN</td>\n",
       "      <td>NaN</td>\n",
       "      <td>42.000000</td>\n",
       "      <td>NaN</td>\n",
       "      <td>1.000000</td>\n",
       "      <td>NaN</td>\n",
       "      <td>NaN</td>\n",
       "      <td>NaN</td>\n",
       "      <td>NaN</td>\n",
       "      <td>NaN</td>\n",
       "      <td>NaN</td>\n",
       "      <td>0.000000</td>\n",
       "    </tr>\n",
       "    <tr>\n",
       "      <th>75%</th>\n",
       "      <td>NaN</td>\n",
       "      <td>NaN</td>\n",
       "      <td>NaN</td>\n",
       "      <td>NaN</td>\n",
       "      <td>51.000000</td>\n",
       "      <td>NaN</td>\n",
       "      <td>2.000000</td>\n",
       "      <td>NaN</td>\n",
       "      <td>NaN</td>\n",
       "      <td>NaN</td>\n",
       "      <td>NaN</td>\n",
       "      <td>NaN</td>\n",
       "      <td>NaN</td>\n",
       "      <td>0.000000</td>\n",
       "    </tr>\n",
       "    <tr>\n",
       "      <th>max</th>\n",
       "      <td>NaN</td>\n",
       "      <td>NaN</td>\n",
       "      <td>NaN</td>\n",
       "      <td>NaN</td>\n",
       "      <td>320.000000</td>\n",
       "      <td>NaN</td>\n",
       "      <td>7.000000</td>\n",
       "      <td>NaN</td>\n",
       "      <td>NaN</td>\n",
       "      <td>NaN</td>\n",
       "      <td>NaN</td>\n",
       "      <td>NaN</td>\n",
       "      <td>NaN</td>\n",
       "      <td>1.000000</td>\n",
       "    </tr>\n",
       "  </tbody>\n",
       "</table>\n",
       "</div>"
      ],
      "text/plain": [
       "                ID Policy Start Date Policy End Date Gender          Age  \\\n",
       "count         2667              2667            2667   2667  2667.000000   \n",
       "unique        2667               344             350      6          NaN   \n",
       "top     ID_00N7XT1        2010-02-26      2011-02-25   Male          NaN   \n",
       "freq             1                30              29   1673          NaN   \n",
       "mean           NaN               NaN             NaN    NaN    45.110611   \n",
       "std            NaN               NaN             NaN    NaN    18.732415   \n",
       "min            NaN               NaN             NaN    NaN   -27.000000   \n",
       "25%            NaN               NaN             NaN    NaN    36.000000   \n",
       "50%            NaN               NaN             NaN    NaN    42.000000   \n",
       "75%            NaN               NaN             NaN    NaN    51.000000   \n",
       "max            NaN               NaN             NaN    NaN   320.000000   \n",
       "\n",
       "       First Transaction Date       No_Pol Car_Category Subject_Car_Colour  \\\n",
       "count                    2667  2667.000000         2667               2667   \n",
       "unique                    344          NaN           14                 34   \n",
       "top                2010-02-26          NaN       Saloon              Black   \n",
       "freq                       30          NaN         1507               1147   \n",
       "mean                      NaN     1.499063          NaN                NaN   \n",
       "std                       NaN     0.805725          NaN                NaN   \n",
       "min                       NaN     1.000000          NaN                NaN   \n",
       "25%                       NaN     1.000000          NaN                NaN   \n",
       "50%                       NaN     1.000000          NaN                NaN   \n",
       "75%                       NaN     2.000000          NaN                NaN   \n",
       "max                       NaN     7.000000          NaN                NaN   \n",
       "\n",
       "       Subject_Car_Make         LGA_Name  State  ProductName       target  \n",
       "count              2667             2667   2667         2667  2667.000000  \n",
       "unique               45              202     88            9          NaN  \n",
       "top              TOYOTA  Victoria Island  Lagos  Car Classic          NaN  \n",
       "freq               1377              332   1468         2210          NaN  \n",
       "mean                NaN              NaN    NaN          NaN     0.187477  \n",
       "std                 NaN              NaN    NaN          NaN     0.390367  \n",
       "min                 NaN              NaN    NaN          NaN     0.000000  \n",
       "25%                 NaN              NaN    NaN          NaN     0.000000  \n",
       "50%                 NaN              NaN    NaN          NaN     0.000000  \n",
       "75%                 NaN              NaN    NaN          NaN     0.000000  \n",
       "max                 NaN              NaN    NaN          NaN     1.000000  "
      ]
     },
     "execution_count": 7,
     "metadata": {},
     "output_type": "execute_result"
    }
   ],
   "source": [
    "##describe the data\n",
    "df.describe(include = 'all')     #describe the data"
   ]
  },
  {
   "cell_type": "code",
   "execution_count": 9,
   "metadata": {},
   "outputs": [
    {
     "name": "stdout",
     "output_type": "stream",
     "text": [
      "<class 'pandas.core.frame.DataFrame'>\n",
      "RangeIndex: 2667 entries, 0 to 2666\n",
      "Data columns (total 14 columns):\n",
      " #   Column                  Non-Null Count  Dtype \n",
      "---  ------                  --------------  ----- \n",
      " 0   ID                      2667 non-null   object\n",
      " 1   Policy Start Date       2667 non-null   object\n",
      " 2   Policy End Date         2667 non-null   object\n",
      " 3   Gender                  2667 non-null   object\n",
      " 4   Age                     2667 non-null   int64 \n",
      " 5   First Transaction Date  2667 non-null   object\n",
      " 6   No_Pol                  2667 non-null   int64 \n",
      " 7   Car_Category            2667 non-null   object\n",
      " 8   Subject_Car_Colour      2667 non-null   object\n",
      " 9   Subject_Car_Make        2667 non-null   object\n",
      " 10  LGA_Name                2667 non-null   object\n",
      " 11  State                   2667 non-null   object\n",
      " 12  ProductName             2667 non-null   object\n",
      " 13  target                  2667 non-null   int64 \n",
      "dtypes: int64(3), object(11)\n",
      "memory usage: 291.8+ KB\n"
     ]
    }
   ],
   "source": [
    "df.info()"
   ]
  },
  {
   "cell_type": "code",
   "execution_count": 10,
   "metadata": {},
   "outputs": [
    {
     "data": {
      "text/plain": [
       "(2667, 14)"
      ]
     },
     "execution_count": 10,
     "metadata": {},
     "output_type": "execute_result"
    }
   ],
   "source": [
    "#check the shape of the data\n",
    "df.shape"
   ]
  },
  {
   "cell_type": "markdown",
   "metadata": {},
   "source": [
    "### 2667 entries or instances of data, and each entry contains information across 14 different attributes or characteristics of a car insurance policy"
   ]
  },
  {
   "cell_type": "code",
   "execution_count": 11,
   "metadata": {},
   "outputs": [
    {
     "data": {
      "text/plain": [
       "Index(['ID', 'Policy Start Date', 'Policy End Date', 'Gender', 'Age',\n",
       "       'First Transaction Date', 'No_Pol', 'Car_Category',\n",
       "       'Subject_Car_Colour', 'Subject_Car_Make', 'LGA_Name', 'State',\n",
       "       'ProductName', 'target'],\n",
       "      dtype='object')"
      ]
     },
     "execution_count": 11,
     "metadata": {},
     "output_type": "execute_result"
    }
   ],
   "source": [
    "#check the columns of the data\n",
    "df.columns"
   ]
  },
  {
   "cell_type": "markdown",
   "metadata": {},
   "source": [
    "# Data Cleaning and Preprocessing"
   ]
  },
  {
   "cell_type": "code",
   "execution_count": 13,
   "metadata": {},
   "outputs": [
    {
     "data": {
      "text/plain": [
       "ID                        object\n",
       "Policy Start Date         object\n",
       "Policy End Date           object\n",
       "Gender                    object\n",
       "Age                        int64\n",
       "First Transaction Date    object\n",
       "No_Pol                     int64\n",
       "Car_Category              object\n",
       "Subject_Car_Colour        object\n",
       "Subject_Car_Make          object\n",
       "LGA_Name                  object\n",
       "State                     object\n",
       "ProductName               object\n",
       "target                     int64\n",
       "dtype: object"
      ]
     },
     "execution_count": 13,
     "metadata": {},
     "output_type": "execute_result"
    }
   ],
   "source": [
    "#check the data types of the columns\n",
    "df.dtypes"
   ]
  },
  {
   "cell_type": "code",
   "execution_count": 14,
   "metadata": {},
   "outputs": [
    {
     "data": {
      "text/plain": [
       "ID                        0\n",
       "Policy Start Date         0\n",
       "Policy End Date           0\n",
       "Gender                    0\n",
       "Age                       0\n",
       "First Transaction Date    0\n",
       "No_Pol                    0\n",
       "Car_Category              0\n",
       "Subject_Car_Colour        0\n",
       "Subject_Car_Make          0\n",
       "LGA_Name                  0\n",
       "State                     0\n",
       "ProductName               0\n",
       "target                    0\n",
       "dtype: int64"
      ]
     },
     "execution_count": 14,
     "metadata": {},
     "output_type": "execute_result"
    }
   ],
   "source": [
    "#check for missing values\n",
    "df.isnull().sum()"
   ]
  },
  {
   "cell_type": "markdown",
   "metadata": {},
   "source": [
    "### There is no missing value cases for the dataset"
   ]
  },
  {
   "cell_type": "code",
   "execution_count": 15,
   "metadata": {},
   "outputs": [
    {
     "data": {
      "text/plain": [
       "0"
      ]
     },
     "execution_count": 15,
     "metadata": {},
     "output_type": "execute_result"
    }
   ],
   "source": [
    "#check for duplicates\n",
    "df.duplicated().sum()"
   ]
  },
  {
   "cell_type": "markdown",
   "metadata": {},
   "source": [
    "#### No duplicated entry also, seems the dataset is pretty clean, but a quick check on the age column"
   ]
  },
  {
   "cell_type": "code",
   "execution_count": 16,
   "metadata": {},
   "outputs": [
    {
     "data": {
      "text/plain": [
       "ID                        2667\n",
       "Policy Start Date          344\n",
       "Policy End Date            350\n",
       "Gender                       6\n",
       "Age                         88\n",
       "First Transaction Date     344\n",
       "No_Pol                       7\n",
       "Car_Category                14\n",
       "Subject_Car_Colour          34\n",
       "Subject_Car_Make            45\n",
       "LGA_Name                   202\n",
       "State                       88\n",
       "ProductName                  9\n",
       "target                       2\n",
       "dtype: int64"
      ]
     },
     "execution_count": 16,
     "metadata": {},
     "output_type": "execute_result"
    }
   ],
   "source": [
    "#check for unique values\n",
    "df.nunique()"
   ]
  },
  {
   "cell_type": "code",
   "execution_count": 17,
   "metadata": {},
   "outputs": [
    {
     "data": {
      "text/plain": [
       "array([ 71,  30,  40,  41,  39,  47,  42,  37,  45,  52,  50,  44,  32,\n",
       "        53, 120,  56,  26,  38,  43,  65,  46,  51,  58,  55,  34,  62,\n",
       "        33,  49,  60,  67,  61,  64,  35,  28,  36,  10,  20,  54,  48,\n",
       "        70,   7,  66,  63,  31,  57,  59,  19,  79,  73,   9,  12,  81,\n",
       "        29,  78,  25,  -2,  89,  27,  72,  69,  84,  75,  76,   1,  68,\n",
       "         6,   8,   5,  93,  13, -12,  83,  82,  80,  77,  74,  18, 320,\n",
       "        17,   3,  85,   0,  22, -27,   2,   4,  24,  11], dtype=int64)"
      ]
     },
     "execution_count": 17,
     "metadata": {},
     "output_type": "execute_result"
    }
   ],
   "source": [
    "#check the age column for extreme values\n",
    "df['Age'].unique()"
   ]
  },
  {
   "cell_type": "markdown",
   "metadata": {},
   "source": [
    "#### The age column in the dataset presents a diverse range of values, encompassing both negative figures (like -27 and -12) and exceedingly high ones (such as 320). This variety deviates significantly from the typical age range, suggesting potential anomalies or data entry errors. The inclusion of negative values and extremely high ages, which are highly improbable in real-world scenarios, indicates potential issues with data quality. Addressing these anomalies and errors will be crucial to ensure the accuracy and reliability of any subsequent analyses or modeling efforts involving this dataset's age-related information."
   ]
  },
  {
   "cell_type": "code",
   "execution_count": null,
   "metadata": {},
   "outputs": [],
   "source": []
  }
 ],
 "metadata": {
  "kernelspec": {
   "display_name": "Python 3",
   "language": "python",
   "name": "python3"
  },
  "language_info": {
   "codemirror_mode": {
    "name": "ipython",
    "version": 3
   },
   "file_extension": ".py",
   "mimetype": "text/x-python",
   "name": "python",
   "nbconvert_exporter": "python",
   "pygments_lexer": "ipython3",
   "version": "3.11.6"
  }
 },
 "nbformat": 4,
 "nbformat_minor": 2
}
