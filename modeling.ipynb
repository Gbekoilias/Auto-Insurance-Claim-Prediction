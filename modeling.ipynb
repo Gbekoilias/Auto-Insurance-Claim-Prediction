{
 "cells": [
  {
   "cell_type": "code",
   "execution_count": 38,
   "metadata": {},
   "outputs": [
    {
     "name": "stdout",
     "output_type": "stream",
     "text": [
      "Requirement already satisfied: imblearn in c:\\users\\donkams\\appdata\\local\\packages\\pythonsoftwarefoundation.python.3.11_qbz5n2kfra8p0\\localcache\\local-packages\\python311\\site-packages (0.0)\n",
      "Requirement already satisfied: imbalanced-learn in c:\\users\\donkams\\appdata\\local\\packages\\pythonsoftwarefoundation.python.3.11_qbz5n2kfra8p0\\localcache\\local-packages\\python311\\site-packages (from imblearn) (0.11.0)\n",
      "Requirement already satisfied: numpy>=1.17.3 in c:\\users\\donkams\\appdata\\local\\packages\\pythonsoftwarefoundation.python.3.11_qbz5n2kfra8p0\\localcache\\local-packages\\python311\\site-packages (from imbalanced-learn->imblearn) (1.25.2)\n",
      "Requirement already satisfied: scipy>=1.5.0 in c:\\users\\donkams\\appdata\\local\\packages\\pythonsoftwarefoundation.python.3.11_qbz5n2kfra8p0\\localcache\\local-packages\\python311\\site-packages (from imbalanced-learn->imblearn) (1.11.3)\n",
      "Requirement already satisfied: scikit-learn>=1.0.2 in c:\\users\\donkams\\appdata\\local\\packages\\pythonsoftwarefoundation.python.3.11_qbz5n2kfra8p0\\localcache\\local-packages\\python311\\site-packages (from imbalanced-learn->imblearn) (1.3.1)\n",
      "Requirement already satisfied: joblib>=1.1.1 in c:\\users\\donkams\\appdata\\local\\packages\\pythonsoftwarefoundation.python.3.11_qbz5n2kfra8p0\\localcache\\local-packages\\python311\\site-packages (from imbalanced-learn->imblearn) (1.1.1)\n",
      "Requirement already satisfied: threadpoolctl>=2.0.0 in c:\\users\\donkams\\appdata\\local\\packages\\pythonsoftwarefoundation.python.3.11_qbz5n2kfra8p0\\localcache\\local-packages\\python311\\site-packages (from imbalanced-learn->imblearn) (3.2.0)\n",
      "Note: you may need to restart the kernel to use updated packages.\n",
      "Requirement already satisfied: lazypredict in c:\\users\\donkams\\appdata\\local\\packages\\pythonsoftwarefoundation.python.3.11_qbz5n2kfra8p0\\localcache\\local-packages\\python311\\site-packages (0.2.12)\n",
      "Requirement already satisfied: click in c:\\users\\donkams\\appdata\\local\\packages\\pythonsoftwarefoundation.python.3.11_qbz5n2kfra8p0\\localcache\\local-packages\\python311\\site-packages (from lazypredict) (8.1.7)\n",
      "Requirement already satisfied: scikit-learn in c:\\users\\donkams\\appdata\\local\\packages\\pythonsoftwarefoundation.python.3.11_qbz5n2kfra8p0\\localcache\\local-packages\\python311\\site-packages (from lazypredict) (1.3.1)\n",
      "Requirement already satisfied: pandas in c:\\users\\donkams\\appdata\\local\\packages\\pythonsoftwarefoundation.python.3.11_qbz5n2kfra8p0\\localcache\\local-packages\\python311\\site-packages (from lazypredict) (2.1.1)\n",
      "Requirement already satisfied: tqdm in c:\\users\\donkams\\appdata\\local\\packages\\pythonsoftwarefoundation.python.3.11_qbz5n2kfra8p0\\localcache\\local-packages\\python311\\site-packages (from lazypredict) (4.66.1)\n",
      "Requirement already satisfied: joblib in c:\\users\\donkams\\appdata\\local\\packages\\pythonsoftwarefoundation.python.3.11_qbz5n2kfra8p0\\localcache\\local-packages\\python311\\site-packages (from lazypredict) (1.1.1)\n",
      "Requirement already satisfied: lightgbm in c:\\users\\donkams\\appdata\\local\\packages\\pythonsoftwarefoundation.python.3.11_qbz5n2kfra8p0\\localcache\\local-packages\\python311\\site-packages (from lazypredict) (4.1.0)\n",
      "Requirement already satisfied: xgboost in c:\\users\\donkams\\appdata\\local\\packages\\pythonsoftwarefoundation.python.3.11_qbz5n2kfra8p0\\localcache\\local-packages\\python311\\site-packages (from lazypredict) (2.0.2)\n",
      "Requirement already satisfied: colorama in c:\\users\\donkams\\appdata\\local\\packages\\pythonsoftwarefoundation.python.3.11_qbz5n2kfra8p0\\localcache\\local-packages\\python311\\site-packages (from click->lazypredict) (0.4.6)\n",
      "Requirement already satisfied: numpy in c:\\users\\donkams\\appdata\\local\\packages\\pythonsoftwarefoundation.python.3.11_qbz5n2kfra8p0\\localcache\\local-packages\\python311\\site-packages (from lightgbm->lazypredict) (1.25.2)\n",
      "Requirement already satisfied: scipy in c:\\users\\donkams\\appdata\\local\\packages\\pythonsoftwarefoundation.python.3.11_qbz5n2kfra8p0\\localcache\\local-packages\\python311\\site-packages (from lightgbm->lazypredict) (1.11.3)\n",
      "Requirement already satisfied: python-dateutil>=2.8.2 in c:\\users\\donkams\\appdata\\local\\packages\\pythonsoftwarefoundation.python.3.11_qbz5n2kfra8p0\\localcache\\local-packages\\python311\\site-packages (from pandas->lazypredict) (2.8.2)\n",
      "Requirement already satisfied: pytz>=2020.1 in c:\\users\\donkams\\appdata\\local\\packages\\pythonsoftwarefoundation.python.3.11_qbz5n2kfra8p0\\localcache\\local-packages\\python311\\site-packages (from pandas->lazypredict) (2023.3.post1)\n",
      "Requirement already satisfied: tzdata>=2022.1 in c:\\users\\donkams\\appdata\\local\\packages\\pythonsoftwarefoundation.python.3.11_qbz5n2kfra8p0\\localcache\\local-packages\\python311\\site-packages (from pandas->lazypredict) (2023.3)\n",
      "Requirement already satisfied: threadpoolctl>=2.0.0 in c:\\users\\donkams\\appdata\\local\\packages\\pythonsoftwarefoundation.python.3.11_qbz5n2kfra8p0\\localcache\\local-packages\\python311\\site-packages (from scikit-learn->lazypredict) (3.2.0)\n",
      "Requirement already satisfied: six>=1.5 in c:\\users\\donkams\\appdata\\local\\packages\\pythonsoftwarefoundation.python.3.11_qbz5n2kfra8p0\\localcache\\local-packages\\python311\\site-packages (from python-dateutil>=2.8.2->pandas->lazypredict) (1.16.0)\n",
      "Note: you may need to restart the kernel to use updated packages.\n",
      "Requirement already satisfied: category_encoders in c:\\users\\donkams\\appdata\\local\\packages\\pythonsoftwarefoundation.python.3.11_qbz5n2kfra8p0\\localcache\\local-packages\\python311\\site-packages (2.6.3)\n",
      "Requirement already satisfied: numpy>=1.14.0 in c:\\users\\donkams\\appdata\\local\\packages\\pythonsoftwarefoundation.python.3.11_qbz5n2kfra8p0\\localcache\\local-packages\\python311\\site-packages (from category_encoders) (1.25.2)\n",
      "Requirement already satisfied: scikit-learn>=0.20.0 in c:\\users\\donkams\\appdata\\local\\packages\\pythonsoftwarefoundation.python.3.11_qbz5n2kfra8p0\\localcache\\local-packages\\python311\\site-packages (from category_encoders) (1.3.1)\n",
      "Requirement already satisfied: scipy>=1.0.0 in c:\\users\\donkams\\appdata\\local\\packages\\pythonsoftwarefoundation.python.3.11_qbz5n2kfra8p0\\localcache\\local-packages\\python311\\site-packages (from category_encoders) (1.11.3)\n",
      "Requirement already satisfied: statsmodels>=0.9.0 in c:\\users\\donkams\\appdata\\local\\packages\\pythonsoftwarefoundation.python.3.11_qbz5n2kfra8p0\\localcache\\local-packages\\python311\\site-packages (from category_encoders) (0.14.0)\n",
      "Requirement already satisfied: pandas>=1.0.5 in c:\\users\\donkams\\appdata\\local\\packages\\pythonsoftwarefoundation.python.3.11_qbz5n2kfra8p0\\localcache\\local-packages\\python311\\site-packages (from category_encoders) (2.1.1)\n",
      "Requirement already satisfied: patsy>=0.5.1 in c:\\users\\donkams\\appdata\\local\\packages\\pythonsoftwarefoundation.python.3.11_qbz5n2kfra8p0\\localcache\\local-packages\\python311\\site-packages (from category_encoders) (0.5.3)\n",
      "Requirement already satisfied: python-dateutil>=2.8.2 in c:\\users\\donkams\\appdata\\local\\packages\\pythonsoftwarefoundation.python.3.11_qbz5n2kfra8p0\\localcache\\local-packages\\python311\\site-packages (from pandas>=1.0.5->category_encoders) (2.8.2)\n",
      "Requirement already satisfied: pytz>=2020.1 in c:\\users\\donkams\\appdata\\local\\packages\\pythonsoftwarefoundation.python.3.11_qbz5n2kfra8p0\\localcache\\local-packages\\python311\\site-packages (from pandas>=1.0.5->category_encoders) (2023.3.post1)\n",
      "Requirement already satisfied: tzdata>=2022.1 in c:\\users\\donkams\\appdata\\local\\packages\\pythonsoftwarefoundation.python.3.11_qbz5n2kfra8p0\\localcache\\local-packages\\python311\\site-packages (from pandas>=1.0.5->category_encoders) (2023.3)\n",
      "Requirement already satisfied: six in c:\\users\\donkams\\appdata\\local\\packages\\pythonsoftwarefoundation.python.3.11_qbz5n2kfra8p0\\localcache\\local-packages\\python311\\site-packages (from patsy>=0.5.1->category_encoders) (1.16.0)\n",
      "Requirement already satisfied: joblib>=1.1.1 in c:\\users\\donkams\\appdata\\local\\packages\\pythonsoftwarefoundation.python.3.11_qbz5n2kfra8p0\\localcache\\local-packages\\python311\\site-packages (from scikit-learn>=0.20.0->category_encoders) (1.1.1)\n",
      "Requirement already satisfied: threadpoolctl>=2.0.0 in c:\\users\\donkams\\appdata\\local\\packages\\pythonsoftwarefoundation.python.3.11_qbz5n2kfra8p0\\localcache\\local-packages\\python311\\site-packages (from scikit-learn>=0.20.0->category_encoders) (3.2.0)\n",
      "Requirement already satisfied: packaging>=21.3 in c:\\users\\donkams\\appdata\\local\\packages\\pythonsoftwarefoundation.python.3.11_qbz5n2kfra8p0\\localcache\\local-packages\\python311\\site-packages (from statsmodels>=0.9.0->category_encoders) (23.2)\n",
      "Note: you may need to restart the kernel to use updated packages.\n"
     ]
    }
   ],
   "source": [
    "%pip install imblearn\n",
    "%pip install lazypredict\n",
    "%pip install category_encoders\n",
    "#import relevant libaries and machine learning frameworks for classification task\n",
    "import pandas as pd\n",
    "import numpy as np\n",
    "import matplotlib.pyplot as plt\n",
    "import seaborn as sns\n",
    "import sklearn\n",
    "from sklearn import preprocessing\n",
    "from sklearn.model_selection import train_test_split\n",
    "from sklearn.metrics import accuracy_score\n",
    "from sklearn.metrics import roc_auc_score\n",
    "from sklearn.metrics import roc_curve\n",
    "from sklearn.metrics import confusion_matrix\n",
    "from sklearn.metrics import classification_report\n",
    "from sklearn.metrics import f1_score\n",
    "from sklearn.metrics import precision_score\n",
    "from sklearn.metrics import recall_score\n",
    "from sklearn.metrics import classification_report\n",
    "from sklearn.model_selection import cross_val_score\n",
    "from sklearn.model_selection import cross_val_predict\n",
    "from sklearn.model_selection import cross_validate\n",
    "from sklearn.model_selection import KFold\n",
    "from sklearn.model_selection import StratifiedKFold\n",
    "# import models\n",
    "from sklearn.linear_model import LogisticRegression\n",
    "from sklearn.ensemble import RandomForestClassifier\n",
    "from sklearn.svm import SVC\n",
    "from sklearn import tree\n",
    "from sklearn.neighbors import KNeighborsClassifier\n",
    "from sklearn.naive_bayes import GaussianNB\n",
    "from sklearn.ensemble import GradientBoostingClassifier\n",
    "# import relevant libraries for machine learning pipeline\n",
    "from sklearn.pipeline import Pipeline\n",
    "from sklearn.compose import ColumnTransformer\n",
    "from sklearn.impute import SimpleImputer\n",
    "from sklearn.preprocessing import LabelEncoder\n",
    "from sklearn.preprocessing import StandardScaler\n",
    "from sklearn.linear_model import LogisticRegression\n",
    "from sklearn.model_selection import train_test_split\n",
    "from sklearn.metrics import classification_report\n",
    "from sklearn.metrics import confusion_matrix\n",
    "from sklearn.metrics import accuracy_score\n",
    "from sklearn.svm import SVC\n",
    "from sklearn.tree import DecisionTreeClassifier\n",
    "from sklearn.ensemble import GradientBoostingClassifier\n",
    "from sklearn.ensemble import RandomForestClassifier\n",
    "from sklearn.preprocessing import OneHotEncoder\n",
    "from sklearn.metrics import roc_curve\n",
    "from sklearn.metrics import f1_score, recall_score, precision_score\n",
    "from sklearn.metrics import roc_auc_score\n",
    "#from# sklearn.metrics import plot_confusion_matrix\n",
    "from sklearn.model_selection import GridSearchCV\n",
    "from sklearn.model_selection import RandomizedSearchCV\n",
    "from sklearn.model_selection import cross_val_score\n",
    "from sklearn.model_selection import cross_val_predict\n",
    "from sklearn.model_selection import cross_validate\n",
    "import joblib\n",
    "import warnings\n",
    "import category_encoders\n",
    "import pickle\n",
    "from numpy import percentile\n",
    "import imblearn\n",
    "from imblearn.over_sampling import RandomOverSampler\n",
    "from sklearn.svm import SVC \n",
    "from sklearn.linear_model import LogisticRegression \n",
    "from sklearn.impute import SimpleImputer\n",
    "from sklearn.model_selection import train_test_split\n",
    "from sklearn.metrics import accuracy_score \n",
    "from sklearn.preprocessing import OneHotEncoder, RobustScaler \n",
    "from sklearn.tree import DecisionTreeClassifier, plot_tree\n",
    "from sklearn.ensemble import GradientBoostingClassifier, RandomForestClassifier, VotingClassifier \n",
    "from category_encoders import OrdinalEncoder\n",
    "from sklearn.pipeline import Pipeline, make_pipeline\n",
    "from sklearn.metrics import (\n",
    "    ConfusionMatrixDisplay,\n",
    "    classification_report,\n",
    "    confusion_matrix,\n",
    ")\n",
    "from lazypredict.Supervised import LazyClassifier\n",
    "warnings.filterwarnings('ignore')\n",
    "%matplotlib inline"
   ]
  },
  {
   "cell_type": "code",
   "execution_count": 2,
   "metadata": {},
   "outputs": [
    {
     "data": {
      "text/html": [
       "<div>\n",
       "<style scoped>\n",
       "    .dataframe tbody tr th:only-of-type {\n",
       "        vertical-align: middle;\n",
       "    }\n",
       "\n",
       "    .dataframe tbody tr th {\n",
       "        vertical-align: top;\n",
       "    }\n",
       "\n",
       "    .dataframe thead th {\n",
       "        text-align: right;\n",
       "    }\n",
       "</style>\n",
       "<table border=\"1\" class=\"dataframe\">\n",
       "  <thead>\n",
       "    <tr style=\"text-align: right;\">\n",
       "      <th></th>\n",
       "      <th>ID</th>\n",
       "      <th>Policy Start Date</th>\n",
       "      <th>Policy End Date</th>\n",
       "      <th>Gender</th>\n",
       "      <th>Age</th>\n",
       "      <th>First Transaction Date</th>\n",
       "      <th>No_Pol</th>\n",
       "      <th>Car_Category</th>\n",
       "      <th>Subject_Car_Colour</th>\n",
       "      <th>Subject_Car_Make</th>\n",
       "      <th>LGA_Name</th>\n",
       "      <th>State</th>\n",
       "      <th>ProductName</th>\n",
       "      <th>target</th>\n",
       "    </tr>\n",
       "  </thead>\n",
       "  <tbody>\n",
       "    <tr>\n",
       "      <th>0</th>\n",
       "      <td>ID_00N7XT1</td>\n",
       "      <td>2010-07-06</td>\n",
       "      <td>2011-07-05</td>\n",
       "      <td>Female</td>\n",
       "      <td>71</td>\n",
       "      <td>2010-07-06</td>\n",
       "      <td>2</td>\n",
       "      <td>JEEP</td>\n",
       "      <td>Black</td>\n",
       "      <td>REXTON</td>\n",
       "      <td>Badagry</td>\n",
       "      <td>Lagos</td>\n",
       "      <td>Car Classic</td>\n",
       "      <td>0</td>\n",
       "    </tr>\n",
       "    <tr>\n",
       "      <th>1</th>\n",
       "      <td>ID_01ZY7FF</td>\n",
       "      <td>2010-08-07</td>\n",
       "      <td>2011-08-06</td>\n",
       "      <td>Male</td>\n",
       "      <td>30</td>\n",
       "      <td>2010-08-07</td>\n",
       "      <td>1</td>\n",
       "      <td>Saloon</td>\n",
       "      <td>Grey</td>\n",
       "      <td>TOYOTA</td>\n",
       "      <td>Ikeja</td>\n",
       "      <td>Lagos</td>\n",
       "      <td>Car Classic</td>\n",
       "      <td>1</td>\n",
       "    </tr>\n",
       "    <tr>\n",
       "      <th>2</th>\n",
       "      <td>ID_022U6TV</td>\n",
       "      <td>2010-10-28</td>\n",
       "      <td>2011-10-27</td>\n",
       "      <td>Male</td>\n",
       "      <td>40</td>\n",
       "      <td>2010-10-28</td>\n",
       "      <td>2</td>\n",
       "      <td>Saloon</td>\n",
       "      <td>Black</td>\n",
       "      <td>Honda</td>\n",
       "      <td>Municipal Area Council</td>\n",
       "      <td>Federal Capital Territory</td>\n",
       "      <td>Car Classic</td>\n",
       "      <td>0</td>\n",
       "    </tr>\n",
       "    <tr>\n",
       "      <th>3</th>\n",
       "      <td>ID_02DJWEN</td>\n",
       "      <td>2010-01-23</td>\n",
       "      <td>2011-01-16</td>\n",
       "      <td>Male</td>\n",
       "      <td>41</td>\n",
       "      <td>2010-01-23</td>\n",
       "      <td>1</td>\n",
       "      <td>Saloon</td>\n",
       "      <td>Silver</td>\n",
       "      <td>TOYOTA</td>\n",
       "      <td>Apapa</td>\n",
       "      <td>Lagos</td>\n",
       "      <td>Car Classic</td>\n",
       "      <td>0</td>\n",
       "    </tr>\n",
       "    <tr>\n",
       "      <th>4</th>\n",
       "      <td>ID_03U3I31</td>\n",
       "      <td>2010-09-06</td>\n",
       "      <td>2011-09-05</td>\n",
       "      <td>Male</td>\n",
       "      <td>39</td>\n",
       "      <td>2010-09-06</td>\n",
       "      <td>2</td>\n",
       "      <td>Saloon</td>\n",
       "      <td>Red</td>\n",
       "      <td>TOYOTA</td>\n",
       "      <td>Oshodi-Isolo</td>\n",
       "      <td>Lagos</td>\n",
       "      <td>Car Classic</td>\n",
       "      <td>0</td>\n",
       "    </tr>\n",
       "  </tbody>\n",
       "</table>\n",
       "</div>"
      ],
      "text/plain": [
       "           ID Policy Start Date Policy End Date  Gender  Age  \\\n",
       "0  ID_00N7XT1        2010-07-06      2011-07-05  Female   71   \n",
       "1  ID_01ZY7FF        2010-08-07      2011-08-06    Male   30   \n",
       "2  ID_022U6TV        2010-10-28      2011-10-27    Male   40   \n",
       "3  ID_02DJWEN        2010-01-23      2011-01-16    Male   41   \n",
       "4  ID_03U3I31        2010-09-06      2011-09-05    Male   39   \n",
       "\n",
       "  First Transaction Date  No_Pol Car_Category Subject_Car_Colour  \\\n",
       "0             2010-07-06       2         JEEP              Black   \n",
       "1             2010-08-07       1       Saloon               Grey   \n",
       "2             2010-10-28       2       Saloon              Black   \n",
       "3             2010-01-23       1       Saloon             Silver   \n",
       "4             2010-09-06       2       Saloon                Red   \n",
       "\n",
       "  Subject_Car_Make                LGA_Name                      State  \\\n",
       "0           REXTON                 Badagry                      Lagos   \n",
       "1           TOYOTA                   Ikeja                      Lagos   \n",
       "2            Honda  Municipal Area Council  Federal Capital Territory   \n",
       "3           TOYOTA                   Apapa                      Lagos   \n",
       "4           TOYOTA            Oshodi-Isolo                      Lagos   \n",
       "\n",
       "   ProductName  target  \n",
       "0  Car Classic       0  \n",
       "1  Car Classic       1  \n",
       "2  Car Classic       0  \n",
       "3  Car Classic       0  \n",
       "4  Car Classic       0  "
      ]
     },
     "execution_count": 2,
     "metadata": {},
     "output_type": "execute_result"
    }
   ],
   "source": [
    "#read out the data\n",
    "df = pd.read_csv('C:/Users/DONKAMS/Downloads/Project_STA2017/NigeriaAutoInsurance_Vehicle_analyzed.csv')\n",
    "df.head()"
   ]
  },
  {
   "cell_type": "code",
   "execution_count": 3,
   "metadata": {},
   "outputs": [
    {
     "data": {
      "text/plain": [
       "(2667, 14)"
      ]
     },
     "execution_count": 3,
     "metadata": {},
     "output_type": "execute_result"
    }
   ],
   "source": [
    "#check the shape of the data\n",
    "df.shape"
   ]
  },
  {
   "cell_type": "markdown",
   "metadata": {},
   "source": [
    "<h2 align = 'center'> Basic Modeling </h2>"
   ]
  },
  {
   "cell_type": "code",
   "execution_count": 40,
   "metadata": {},
   "outputs": [
    {
     "name": "stdout",
     "output_type": "stream",
     "text": [
      "(2133, 14)\n",
      "(534, 14)\n"
     ]
    }
   ],
   "source": [
    "#split the data into train and test set with 80% training and 20% test\n",
    "train, test = train_test_split(df, test_size=0.2, random_state=42)\n",
    "#print the shape of the train and test set\n",
    "print(train.shape)\n",
    "print(test.shape)"
   ]
  },
  {
   "cell_type": "code",
   "execution_count": 41,
   "metadata": {},
   "outputs": [
    {
     "data": {
      "text/plain": [
       "Index(['ID', 'Policy Start Date', 'Policy End Date', 'Gender', 'Age',\n",
       "       'First Transaction Date', 'No_Pol', 'Car_Category',\n",
       "       'Subject_Car_Colour', 'Subject_Car_Make', 'LGA_Name', 'State',\n",
       "       'ProductName', 'target'],\n",
       "      dtype='object')"
      ]
     },
     "execution_count": 41,
     "metadata": {},
     "output_type": "execute_result"
    }
   ],
   "source": [
    "df.columns"
   ]
  },
  {
   "cell_type": "code",
   "execution_count": 42,
   "metadata": {},
   "outputs": [],
   "source": [
    "#Define the features and target variable\n",
    "features = ['Gender', 'Age',\n",
    "       'First Transaction Date', 'No_Pol', 'Car_Category',\n",
    "       'Subject_Car_Colour', 'Subject_Car_Make', 'LGA_Name', 'State',\n",
    "       'ProductName']\n",
    "labels = 'target'\n",
    "numerical_features = ['Age', 'No_Pol']\n",
    "categorical_features = ['Gender','Car_Category','Subject_Car_Colour', 'Subject_Car_Make', 'LGA_Name', 'State','ProductName']"
   ]
  },
  {
   "cell_type": "code",
   "execution_count": 43,
   "metadata": {},
   "outputs": [],
   "source": [
    "# train test split\n",
    "X = train[features]\n",
    "y = train[labels]\n",
    "\n",
    "X_train, X_test, y_train, y_test = train_test_split(X, y, test_size=0.3,random_state=0)"
   ]
  },
  {
   "cell_type": "markdown",
   "metadata": {},
   "source": [
    "#### LogisticRegression"
   ]
  },
  {
   "cell_type": "code",
   "execution_count": 44,
   "metadata": {},
   "outputs": [
    {
     "name": "stdout",
     "output_type": "stream",
     "text": [
      "Pipeline(steps=[('preprocessor',\n",
      "                 ColumnTransformer(transformers=[('num',\n",
      "                                                  Pipeline(steps=[('scaler',\n",
      "                                                                   StandardScaler())]),\n",
      "                                                  ['Age', 'No_Pol']),\n",
      "                                                 ('cat',\n",
      "                                                  Pipeline(steps=[('label',\n",
      "                                                                   OneHotEncoder(handle_unknown='ignore'))]),\n",
      "                                                  ['Gender', 'Car_Category',\n",
      "                                                   'Subject_Car_Colour',\n",
      "                                                   'Subject_Car_Make',\n",
      "                                                   'LGA_Name', 'State',\n",
      "                                                   'ProductName'])])),\n",
      "                ('classifier', LogisticRegression())])\n"
     ]
    }
   ],
   "source": [
    "## define preprocessing for numeric features(scale them)\n",
    "numeric_transformer = Pipeline(steps=[\n",
    "    ('scaler', StandardScaler())])\n",
    "## define preprocessing for categorical features(encode them)\n",
    "categorical_transformer = Pipeline(steps=[\n",
    "    ('label', OneHotEncoder(handle_unknown='ignore'))])\n",
    "## amalgamate preprocessing steps\n",
    "preprocessor = ColumnTransformer(\n",
    "    transformers=[\n",
    "        ('num', numeric_transformer, numerical_features),\n",
    "        ('cat', categorical_transformer, categorical_features)])\n",
    "## create preprocessing and training pipeline\n",
    "pipeline = Pipeline(steps=[('preprocessor', preprocessor),\n",
    "                           ('classifier', LogisticRegression())])\n",
    "\n",
    "## fit the pipeline to train a logistic regression model on the training set\n",
    "PIPEmodelLR = pipeline.fit(X_train,y_train)\n",
    "print (PIPEmodelLR)"
   ]
  },
  {
   "cell_type": "code",
   "execution_count": 45,
   "metadata": {},
   "outputs": [
    {
     "name": "stdout",
     "output_type": "stream",
     "text": [
      "Accuracy:  0.7859375\n",
      "              precision    recall  f1-score   support\n",
      "\n",
      "           0       0.80      0.98      0.88       506\n",
      "           1       0.41      0.05      0.09       134\n",
      "\n",
      "    accuracy                           0.79       640\n",
      "   macro avg       0.60      0.52      0.49       640\n",
      "weighted avg       0.72      0.79      0.71       640\n",
      "\n",
      "[[496  10]\n",
      " [127   7]]\n"
     ]
    }
   ],
   "source": [
    "# Evaluation Metrics\n",
    "PIPEpredictionsLR = PIPEmodelLR.predict(X_test)\n",
    "print('Accuracy: ', accuracy_score(y_test,PIPEpredictionsLR ))\n",
    "print(classification_report(y_test, PIPEpredictionsLR))\n",
    "# Print the confusion matrix\n",
    "cm = confusion_matrix(y_test, PIPEpredictionsLR)\n",
    "print (cm)"
   ]
  },
  {
   "cell_type": "code",
   "execution_count": 46,
   "metadata": {},
   "outputs": [
    {
     "data": {
      "image/png": "[encoded data removed]",
      "text/plain": [
       "<Figure size 600x600 with 1 Axes>"
      ]
     },
     "metadata": {},
     "output_type": "display_data"
    }
   ],
   "source": [
    "LRprobab = PIPEmodelLR.predict_proba(X_test)\n",
    "# calculate ROC curve\n",
    "fpr, tpr, thresholds = roc_curve(y_test, LRprobab[:,1])\n",
    "\n",
    "# plot ROC curve\n",
    "fig = plt.figure(figsize=(6, 6))\n",
    "# Plot the diagonal 50% line\n",
    "plt.plot([0, 1], [0, 1], 'k--')\n",
    "# Plot the FPR and TPR achieved by our model\n",
    "plt.plot(fpr, tpr)\n",
    "plt.xlabel('False Positive Rate')\n",
    "plt.ylabel('True Positive Rate')\n",
    "plt.title('ROC Curve')\n",
    "plt.show()"
   ]
  },
  {
   "cell_type": "markdown",
   "metadata": {},
   "source": [
    "#### DecisionTreeClassifier"
   ]
  },
  {
   "cell_type": "code",
   "execution_count": 47,
   "metadata": {},
   "outputs": [
    {
     "name": "stdout",
     "output_type": "stream",
     "text": [
      "Pipeline(steps=[('preprocessor',\n",
      "                 ColumnTransformer(transformers=[('num',\n",
      "                                                  Pipeline(steps=[('scaler',\n",
      "                                                                   StandardScaler())]),\n",
      "                                                  ['Age', 'No_Pol']),\n",
      "                                                 ('cat',\n",
      "                                                  Pipeline(steps=[('label',\n",
      "                                                                   OneHotEncoder(handle_unknown='ignore'))]),\n",
      "                                                  ['Gender', 'Car_Category',\n",
      "                                                   'Subject_Car_Colour',\n",
      "                                                   'Subject_Car_Make',\n",
      "                                                   'LGA_Name', 'State',\n",
      "                                                   'ProductName'])])),\n",
      "                ('classifier', DecisionTreeClassifier())])\n"
     ]
    }
   ],
   "source": [
    "## define preprocessing for numeric features(scale them)\n",
    "numeric_transformer = Pipeline(steps=[\n",
    "    ('scaler', StandardScaler())])\n",
    "## define preprocessing for categorical features(encode them)\n",
    "categorical_transformer = Pipeline(steps=[\n",
    "    ('label', OneHotEncoder(handle_unknown='ignore'))])\n",
    "## amalgamate preprocessing steps\n",
    "preprocessor = ColumnTransformer(\n",
    "    transformers=[\n",
    "        ('num', numeric_transformer, numerical_features),\n",
    "        ('cat', categorical_transformer, categorical_features)])\n",
    "## create preprocessing and training pipeline\n",
    "pipeline = Pipeline(steps=[('preprocessor', preprocessor),\n",
    "                           ('classifier', DecisionTreeClassifier())])\n",
    "\n",
    "## fit the pipeline to train a logistic regression model on the training set\n",
    "PIPEmodelDTC = pipeline.fit(X_train,y_train)\n",
    "print (PIPEmodelDTC)"
   ]
  },
  {
   "cell_type": "code",
   "execution_count": 48,
   "metadata": {},
   "outputs": [
    {
     "name": "stdout",
     "output_type": "stream",
     "text": [
      "Accuracy:  0.6921875\n",
      "              precision    recall  f1-score   support\n",
      "\n",
      "           0       0.79      0.82      0.81       506\n",
      "           1       0.23      0.19      0.21       134\n",
      "\n",
      "    accuracy                           0.69       640\n",
      "   macro avg       0.51      0.51      0.51       640\n",
      "weighted avg       0.68      0.69      0.68       640\n",
      "\n",
      "[[417  89]\n",
      " [108  26]]\n"
     ]
    }
   ],
   "source": [
    "# Evaluation Metrics\n",
    "PIPEpredictionsDTC = PIPEmodelDTC.predict(X_test)\n",
    "print('Accuracy: ', accuracy_score(y_test,PIPEpredictionsDTC ))\n",
    "print(classification_report(y_test, PIPEpredictionsDTC))\n",
    "# Print the confusion matrix\n",
    "cm = confusion_matrix(y_test, PIPEpredictionsDTC)\n",
    "print (cm)"
   ]
  },
  {
   "cell_type": "code",
   "execution_count": 49,
   "metadata": {},
   "outputs": [
    {
     "data": {
      "image/png": "[encoded data removed]",
      "text/plain": [
       "<Figure size 600x600 with 1 Axes>"
      ]
     },
     "metadata": {},
     "output_type": "display_data"
    }
   ],
   "source": [
    "DTCprobab = PIPEmodelDTC.predict_proba(X_test)\n",
    "# calculate ROC curve\n",
    "fpr, tpr, thresholds = roc_curve(y_test, DTCprobab[:,1])\n",
    "\n",
    "# plot ROC curve\n",
    "fig = plt.figure(figsize=(6, 6))\n",
    "# Plot the diagonal 50% line\n",
    "plt.plot([0, 1], [0, 1], 'k--')\n",
    "# Plot the FPR and TPR achieved by our model\n",
    "plt.plot(fpr, tpr)\n",
    "plt.xlabel('False Positive Rate')\n",
    "plt.ylabel('True Positive Rate')\n",
    "plt.title('ROC Curve')\n",
    "plt.show()"
   ]
  },
  {
   "cell_type": "markdown",
   "metadata": {},
   "source": [
    "#### KNearestNeighbour"
   ]
  },
  {
   "cell_type": "code",
   "execution_count": 50,
   "metadata": {},
   "outputs": [
    {
     "name": "stdout",
     "output_type": "stream",
     "text": [
      "Pipeline(steps=[('preprocessor',\n",
      "                 ColumnTransformer(transformers=[('num',\n",
      "                                                  Pipeline(steps=[('scaler',\n",
      "                                                                   StandardScaler())]),\n",
      "                                                  ['Age', 'No_Pol']),\n",
      "                                                 ('cat',\n",
      "                                                  Pipeline(steps=[('label',\n",
      "                                                                   OneHotEncoder(handle_unknown='ignore'))]),\n",
      "                                                  ['Gender', 'Car_Category',\n",
      "                                                   'Subject_Car_Colour',\n",
      "                                                   'Subject_Car_Make',\n",
      "                                                   'LGA_Name', 'State',\n",
      "                                                   'ProductName'])])),\n",
      "                ('classifier', KNeighborsClassifier())])\n"
     ]
    }
   ],
   "source": [
    "## define preprocessing for numeric features(scale them)\n",
    "numeric_transformer = Pipeline(steps=[\n",
    "    ('scaler', StandardScaler())])\n",
    "## define preprocessing for categorical features(encode them)\n",
    "categorical_transformer = Pipeline(steps=[\n",
    "    ('label', OneHotEncoder(handle_unknown='ignore'))])\n",
    "## amalgamate preprocessing steps\n",
    "preprocessor = ColumnTransformer(\n",
    "    transformers=[\n",
    "        ('num', numeric_transformer, numerical_features),\n",
    "        ('cat', categorical_transformer, categorical_features)])\n",
    "## create preprocessing and training pipeline\n",
    "pipeline = Pipeline(steps=[('preprocessor', preprocessor),\n",
    "                           ('classifier', KNeighborsClassifier())])\n",
    "\n",
    "## fit the pipeline to train a logistic regression model on the training set\n",
    "PIPEmodelKNN = pipeline.fit(X_train,y_train)\n",
    "print (PIPEmodelKNN)"
   ]
  },
  {
   "cell_type": "code",
   "execution_count": 51,
   "metadata": {},
   "outputs": [
    {
     "name": "stdout",
     "output_type": "stream",
     "text": [
      "Accuracy:  0.75625\n",
      "              precision    recall  f1-score   support\n",
      "\n",
      "           0       0.79      0.93      0.86       506\n",
      "           1       0.26      0.09      0.13       134\n",
      "\n",
      "    accuracy                           0.76       640\n",
      "   macro avg       0.53      0.51      0.50       640\n",
      "weighted avg       0.68      0.76      0.71       640\n",
      "\n",
      "[[472  34]\n",
      " [122  12]]\n"
     ]
    }
   ],
   "source": [
    "# Evaluation Metrics\n",
    "PIPEpredictionsKNN = PIPEmodelKNN.predict(X_test)\n",
    "print('Accuracy: ', accuracy_score(y_test,PIPEpredictionsKNN ))\n",
    "print(classification_report(y_test, PIPEpredictionsKNN))\n",
    "# Print the confusion matrix\n",
    "cm = confusion_matrix(y_test, PIPEpredictionsKNN)\n",
    "print (cm)"
   ]
  },
  {
   "cell_type": "code",
   "execution_count": 52,
   "metadata": {},
   "outputs": [
    {
     "data": {
      "image/png": "[encoded data removed]",
      "text/plain": [
       "<Figure size 600x600 with 1 Axes>"
      ]
     },
     "metadata": {},
     "output_type": "display_data"
    }
   ],
   "source": [
    "KNNprobab = PIPEmodelKNN.predict_proba(X_test)\n",
    "# calculate ROC curve\n",
    "fpr, tpr, thresholds = roc_curve(y_test, KNNprobab[:,1])\n",
    "\n",
    "# plot ROC curve\n",
    "fig = plt.figure(figsize=(6, 6))\n",
    "# Plot the diagonal 50% line\n",
    "plt.plot([0, 1], [0, 1], 'k--')\n",
    "# Plot the FPR and TPR achieved by our model\n",
    "plt.plot(fpr, tpr)\n",
    "plt.xlabel('False Positive Rate')\n",
    "plt.ylabel('True Positive Rate')\n",
    "plt.title('ROC Curve')\n",
    "plt.show()"
   ]
  },
  {
   "cell_type": "markdown",
   "metadata": {},
   "source": [
    "#### SupportVectorMachine"
   ]
  },
  {
   "cell_type": "code",
   "execution_count": 53,
   "metadata": {},
   "outputs": [
    {
     "name": "stdout",
     "output_type": "stream",
     "text": [
      "Pipeline(steps=[('preprocessor',\n",
      "                 ColumnTransformer(transformers=[('num',\n",
      "                                                  Pipeline(steps=[('scaler',\n",
      "                                                                   StandardScaler())]),\n",
      "                                                  ['Age', 'No_Pol']),\n",
      "                                                 ('cat',\n",
      "                                                  Pipeline(steps=[('label',\n",
      "                                                                   OneHotEncoder(handle_unknown='ignore'))]),\n",
      "                                                  ['Gender', 'Car_Category',\n",
      "                                                   'Subject_Car_Colour',\n",
      "                                                   'Subject_Car_Make',\n",
      "                                                   'LGA_Name', 'State',\n",
      "                                                   'ProductName'])])),\n",
      "                ('classifier', SVC(probability=True))])\n"
     ]
    }
   ],
   "source": [
    "## define preprocessing for numeric features(scale them)\n",
    "numeric_transformer = Pipeline(steps=[\n",
    "    ('scaler', StandardScaler())])\n",
    "## define preprocessing for categorical features(encode them)\n",
    "categorical_transformer = Pipeline(steps=[\n",
    "    ('label', OneHotEncoder(handle_unknown='ignore'))])\n",
    "## amalgamate preprocessing steps\n",
    "preprocessor = ColumnTransformer(\n",
    "    transformers=[\n",
    "        ('num', numeric_transformer, numerical_features),\n",
    "        ('cat', categorical_transformer, categorical_features)])\n",
    "## create preprocessing and training pipeline\n",
    "pipeline = Pipeline(steps=[('preprocessor', preprocessor),\n",
    "                           ('classifier', SVC(probability=True))])\n",
    "\n",
    "## fit the pipeline to train a logistic regression model on the training set\n",
    "PIPEmodelSVC = pipeline.fit(X_train,y_train)\n",
    "print (PIPEmodelSVC)"
   ]
  },
  {
   "cell_type": "code",
   "execution_count": 54,
   "metadata": {},
   "outputs": [
    {
     "name": "stdout",
     "output_type": "stream",
     "text": [
      "Accuracy:  0.790625\n",
      "              precision    recall  f1-score   support\n",
      "\n",
      "           0       0.79      1.00      0.88       506\n",
      "           1       0.50      0.01      0.01       134\n",
      "\n",
      "    accuracy                           0.79       640\n",
      "   macro avg       0.65      0.50      0.45       640\n",
      "weighted avg       0.73      0.79      0.70       640\n",
      "\n",
      "[[505   1]\n",
      " [133   1]]\n"
     ]
    }
   ],
   "source": [
    "# Evaluation Metrics\n",
    "PIPEpredictionsSVC = PIPEmodelSVC.predict(X_test)\n",
    "print('Accuracy: ', accuracy_score(y_test,PIPEpredictionsSVC ))\n",
    "print(classification_report(y_test, PIPEpredictionsSVC))\n",
    "# Print the confusion matrix\n",
    "cm = confusion_matrix(y_test, PIPEpredictionsSVC)\n",
    "print (cm)"
   ]
  },
  {
   "cell_type": "code",
   "execution_count": 55,
   "metadata": {},
   "outputs": [
    {
     "data": {
      "image/png": "[encoded data removed]",
      "text/plain": [
       "<Figure size 600x600 with 1 Axes>"
      ]
     },
     "metadata": {},
     "output_type": "display_data"
    }
   ],
   "source": [
    "SVCprobab = PIPEmodelSVC.predict_proba(X_test)\n",
    "# calculate ROC curve\n",
    "fpr, tpr, thresholds = roc_curve(y_test, SVCprobab[:,1])\n",
    "\n",
    "# plot ROC curve\n",
    "fig = plt.figure(figsize=(6, 6))\n",
    "# Plot the diagonal 50% line\n",
    "plt.plot([0, 1], [0, 1], 'k--')\n",
    "# Plot the FPR and TPR achieved by our model\n",
    "plt.plot(fpr, tpr)\n",
    "plt.xlabel('False Positive Rate')\n",
    "plt.ylabel('True Positive Rate')\n",
    "plt.title('ROC Curve')\n",
    "plt.show()"
   ]
  },
  {
   "cell_type": "markdown",
   "metadata": {},
   "source": [
    "#### GradientBoostingClassifier"
   ]
  },
  {
   "cell_type": "code",
   "execution_count": 56,
   "metadata": {},
   "outputs": [
    {
     "name": "stdout",
     "output_type": "stream",
     "text": [
      "Pipeline(steps=[('preprocessor',\n",
      "                 ColumnTransformer(transformers=[('num',\n",
      "                                                  Pipeline(steps=[('scaler',\n",
      "                                                                   StandardScaler())]),\n",
      "                                                  ['Age', 'No_Pol']),\n",
      "                                                 ('cat',\n",
      "                                                  Pipeline(steps=[('label',\n",
      "                                                                   OneHotEncoder(handle_unknown='ignore'))]),\n",
      "                                                  ['Gender', 'Car_Category',\n",
      "                                                   'Subject_Car_Colour',\n",
      "                                                   'Subject_Car_Make',\n",
      "                                                   'LGA_Name', 'State',\n",
      "                                                   'ProductName'])])),\n",
      "                ('classifier', GradientBoostingClassifier())])\n"
     ]
    }
   ],
   "source": [
    "## define preprocessing for numeric features(scale them)\n",
    "numeric_transformer = Pipeline(steps=[\n",
    "    ('scaler', StandardScaler())])\n",
    "## define preprocessing for categorical features(encode them)\n",
    "categorical_transformer = Pipeline(steps=[\n",
    "    ('label', OneHotEncoder(handle_unknown='ignore'))])\n",
    "## amalgamate preprocessing steps\n",
    "preprocessor = ColumnTransformer(\n",
    "    transformers=[\n",
    "        ('num', numeric_transformer, numerical_features),\n",
    "        ('cat', categorical_transformer, categorical_features)])\n",
    "## create preprocessing and training pipeline\n",
    "pipeline = Pipeline(steps=[('preprocessor', preprocessor),\n",
    "                           ('classifier', GradientBoostingClassifier())])\n",
    "\n",
    "## fit the pipeline to train a logistic regression model on the training set\n",
    "PIPEmodelGBC = pipeline.fit(X_train,y_train)\n",
    "print (PIPEmodelGBC)"
   ]
  },
  {
   "cell_type": "code",
   "execution_count": 57,
   "metadata": {},
   "outputs": [
    {
     "name": "stdout",
     "output_type": "stream",
     "text": [
      "Accuracy:  0.78125\n",
      "              precision    recall  f1-score   support\n",
      "\n",
      "           0       0.80      0.97      0.88       506\n",
      "           1       0.35      0.05      0.09       134\n",
      "\n",
      "    accuracy                           0.78       640\n",
      "   macro avg       0.57      0.51      0.48       640\n",
      "weighted avg       0.70      0.78      0.71       640\n",
      "\n",
      "[[493  13]\n",
      " [127   7]]\n"
     ]
    }
   ],
   "source": [
    "# Evaluation Metrics\n",
    "PIPEpredictionsGBC = PIPEmodelGBC.predict(X_test)\n",
    "print('Accuracy: ', accuracy_score(y_test,PIPEpredictionsGBC ))\n",
    "print(classification_report(y_test, PIPEpredictionsGBC))\n",
    "# Print the confusion matrix\n",
    "cm = confusion_matrix(y_test, PIPEpredictionsGBC)\n",
    "print (cm)"
   ]
  },
  {
   "cell_type": "code",
   "execution_count": 58,
   "metadata": {},
   "outputs": [
    {
     "data": {
      "image/png": "[encoded data removed]",
      "text/plain": [
       "<Figure size 600x600 with 1 Axes>"
      ]
     },
     "metadata": {},
     "output_type": "display_data"
    }
   ],
   "source": [
    "GBCprobab = PIPEmodelGBC.predict_proba(X_test)\n",
    "# calculate ROC curve\n",
    "fpr, tpr, thresholds = roc_curve(y_test, GBCprobab[:,1])\n",
    "\n",
    "# plot ROC curve\n",
    "fig = plt.figure(figsize=(6, 6))\n",
    "# Plot the diagonal 50% line\n",
    "plt.plot([0, 1], [0, 1], 'k--')\n",
    "# Plot the FPR and TPR achieved by our model\n",
    "plt.plot(fpr, tpr)\n",
    "plt.xlabel('False Positive Rate')\n",
    "plt.ylabel('True Positive Rate')\n",
    "plt.title('ROC Curve')\n",
    "plt.show()"
   ]
  },
  {
   "cell_type": "code",
   "execution_count": 62,
   "metadata": {},
   "outputs": [
    {
     "data": {
      "text/html": [
       "<div>\n",
       "<style scoped>\n",
       "    .dataframe tbody tr th:only-of-type {\n",
       "        vertical-align: middle;\n",
       "    }\n",
       "\n",
       "    .dataframe tbody tr th {\n",
       "        vertical-align: top;\n",
       "    }\n",
       "\n",
       "    .dataframe thead th {\n",
       "        text-align: right;\n",
       "    }\n",
       "</style>\n",
       "<table border=\"1\" class=\"dataframe\">\n",
       "  <thead>\n",
       "    <tr style=\"text-align: right;\">\n",
       "      <th></th>\n",
       "      <th>Model</th>\n",
       "      <th>F1 Score</th>\n",
       "      <th>Recall</th>\n",
       "      <th>Precision</th>\n",
       "    </tr>\n",
       "  </thead>\n",
       "  <tbody>\n",
       "    <tr>\n",
       "      <th>0</th>\n",
       "      <td>Logistic Regression</td>\n",
       "      <td>0.09</td>\n",
       "      <td>0.05</td>\n",
       "      <td>0.41</td>\n",
       "    </tr>\n",
       "    <tr>\n",
       "      <th>1</th>\n",
       "      <td>Decision Tree</td>\n",
       "      <td>0.21</td>\n",
       "      <td>0.19</td>\n",
       "      <td>0.23</td>\n",
       "    </tr>\n",
       "    <tr>\n",
       "      <th>2</th>\n",
       "      <td>KNN</td>\n",
       "      <td>0.13</td>\n",
       "      <td>0.09</td>\n",
       "      <td>0.26</td>\n",
       "    </tr>\n",
       "    <tr>\n",
       "      <th>3</th>\n",
       "      <td>SVC</td>\n",
       "      <td>0.01</td>\n",
       "      <td>0.01</td>\n",
       "      <td>0.50</td>\n",
       "    </tr>\n",
       "    <tr>\n",
       "      <th>4</th>\n",
       "      <td>Gradient Boosting</td>\n",
       "      <td>0.09</td>\n",
       "      <td>0.05</td>\n",
       "      <td>0.35</td>\n",
       "    </tr>\n",
       "  </tbody>\n",
       "</table>\n",
       "</div>"
      ],
      "text/plain": [
       "                 Model  F1 Score  Recall  Precision\n",
       "0  Logistic Regression      0.09    0.05       0.41\n",
       "1        Decision Tree      0.21    0.19       0.23\n",
       "2                  KNN      0.13    0.09       0.26\n",
       "3                  SVC      0.01    0.01       0.50\n",
       "4    Gradient Boosting      0.09    0.05       0.35"
      ]
     },
     "execution_count": 62,
     "metadata": {},
     "output_type": "execute_result"
    }
   ],
   "source": [
    "# Assuming models is a list of your trained models\n",
    "# and names is a list of the names of your models\n",
    "#provide a list of mytrained models\n",
    "models = [PIPEmodelLR, PIPEmodelDTC, PIPEmodelKNN, PIPEmodelSVC, PIPEmodelGBC]\n",
    "names = [\"Logistic Regression\", \"Decision Tree\", \"KNN\", \"SVC\", \"Gradient Boosting\"]\n",
    "metrics = []\n",
    "\n",
    "for name, model in zip(names, models):\n",
    "    # Get predictions\n",
    "    y_pred = model.predict(X_test)\n",
    "\n",
    "    # Calculate metrics\n",
    "    f1 = f1_score(y_test, y_pred)\n",
    "    recall = recall_score(y_test, y_pred)\n",
    "    precision = precision_score(y_test, y_pred)\n",
    "\n",
    "    # Append metrics to the list\n",
    "    metrics.append([name, f1, recall, precision])\n",
    "\n",
    "# Create a DataFrame from the metrics\n",
    "model_comparison = pd.DataFrame(metrics, columns=[\"Model\", \"F1 Score\", \"Recall\", \"Precision\"])\n",
    "\n",
    "model_comparison"
   ]
  },
  {
   "cell_type": "markdown",
   "metadata": {},
   "source": [
    "<h2 align='center'> Feature Engineering </h2>"
   ]
  },
  {
   "cell_type": "code",
   "execution_count": 12,
   "metadata": {},
   "outputs": [],
   "source": [
    "df['Policy Start Date'] = pd.to_datetime(df['Policy Start Date'])\n",
    "df['Policy End Date'] = pd.to_datetime(df['Policy End Date'])\n",
    "\n",
    "# Policy Duration\n",
    "df['Policy Duration'] = (df['Policy End Date'] - df['Policy Start Date']).dt.days\n",
    "\n",
    "# Extracting Year, Month, Day of Week\n",
    "df['Policy Start Year'] = df['Policy Start Date'].dt.year\n",
    "df['Policy Start Month'] = df['Policy Start Date'].dt.month\n",
    "df['Policy Start Day of Week'] = df['Policy Start Date'].dt.dayofweek"
   ]
  },
  {
   "cell_type": "code",
   "execution_count": 13,
   "metadata": {},
   "outputs": [],
   "source": [
    "df['Car_Colour_Make'] = df['Subject_Car_Colour'] + \"_\" + df['Subject_Car_Make']\n",
    "df['Car_Colour_Category'] = df['Subject_Car_Colour'] + \"_\" + df['Car_Category']\n",
    "df['Car_Make_Category'] = df['Subject_Car_Make'] + \"_\" + df['Car_Category']"
   ]
  },
  {
   "cell_type": "code",
   "execution_count": 14,
   "metadata": {},
   "outputs": [],
   "source": [
    "bins = [0, 18, 30, 60, 100]\n",
    "labels = ['Child', 'Young Adult', 'Adult', 'Senior']\n",
    "df['Age_Category'] = pd.cut(df['Age'], bins=bins, labels=labels)"
   ]
  },
  {
   "cell_type": "code",
   "execution_count": 15,
   "metadata": {},
   "outputs": [],
   "source": [
    "df['First Transaction Date'] = pd.to_datetime(df['First Transaction Date'])\n",
    "df['Days Since First Transaction'] = (df['Policy Start Date'] - df['First Transaction Date']).dt.days"
   ]
  },
  {
   "cell_type": "code",
   "execution_count": 16,
   "metadata": {},
   "outputs": [],
   "source": [
    "df_encoded = pd.get_dummies(df, columns=['ProductName'])"
   ]
  },
  {
   "cell_type": "code",
   "execution_count": 17,
   "metadata": {},
   "outputs": [],
   "source": [
    "le = LabelEncoder()\n",
    "df['Gender'] = le.fit_transform(df['Gender'])"
   ]
  },
  {
   "cell_type": "code",
   "execution_count": 18,
   "metadata": {},
   "outputs": [],
   "source": [
    "df['Age_No_Pol'] = df['Age'] * df['No_Pol']"
   ]
  },
  {
   "cell_type": "code",
   "execution_count": 19,
   "metadata": {},
   "outputs": [
    {
     "data": {
      "text/plain": [
       "Index(['ID', 'Policy Start Date', 'Policy End Date', 'Gender', 'Age',\n",
       "       'First Transaction Date', 'No_Pol', 'Car_Category',\n",
       "       'Subject_Car_Colour', 'Subject_Car_Make', 'LGA_Name', 'State',\n",
       "       'ProductName', 'target', 'Policy Duration', 'Policy Start Year',\n",
       "       'Policy Start Month', 'Policy Start Day of Week', 'Car_Colour_Make',\n",
       "       'Car_Colour_Category', 'Car_Make_Category', 'Age_Category',\n",
       "       'Days Since First Transaction', 'Age_No_Pol'],\n",
       "      dtype='object')"
      ]
     },
     "execution_count": 19,
     "metadata": {},
     "output_type": "execute_result"
    }
   ],
   "source": [
    "df.columns"
   ]
  },
  {
   "cell_type": "code",
   "execution_count": 20,
   "metadata": {},
   "outputs": [
    {
     "data": {
      "text/plain": [
       "(2667, 24)"
      ]
     },
     "execution_count": 20,
     "metadata": {},
     "output_type": "execute_result"
    }
   ],
   "source": [
    "#shape of df\n",
    "df.shape"
   ]
  },
  {
   "cell_type": "code",
   "execution_count": 21,
   "metadata": {},
   "outputs": [
    {
     "name": "stdout",
     "output_type": "stream",
     "text": [
      "<class 'pandas.core.frame.DataFrame'>\n",
      "RangeIndex: 2667 entries, 0 to 2666\n",
      "Data columns (total 24 columns):\n",
      " #   Column                        Non-Null Count  Dtype         \n",
      "---  ------                        --------------  -----         \n",
      " 0   ID                            2667 non-null   object        \n",
      " 1   Policy Start Date             2667 non-null   datetime64[ns]\n",
      " 2   Policy End Date               2667 non-null   datetime64[ns]\n",
      " 3   Gender                        2667 non-null   int32         \n",
      " 4   Age                           2667 non-null   int64         \n",
      " 5   First Transaction Date        2667 non-null   datetime64[ns]\n",
      " 6   No_Pol                        2667 non-null   int64         \n",
      " 7   Car_Category                  2667 non-null   object        \n",
      " 8   Subject_Car_Colour            2667 non-null   object        \n",
      " 9   Subject_Car_Make              2667 non-null   object        \n",
      " 10  LGA_Name                      2667 non-null   object        \n",
      " 11  State                         2667 non-null   object        \n",
      " 12  ProductName                   2667 non-null   object        \n",
      " 13  target                        2667 non-null   int64         \n",
      " 14  Policy Duration               2667 non-null   int64         \n",
      " 15  Policy Start Year             2667 non-null   int32         \n",
      " 16  Policy Start Month            2667 non-null   int32         \n",
      " 17  Policy Start Day of Week      2667 non-null   int32         \n",
      " 18  Car_Colour_Make               2667 non-null   object        \n",
      " 19  Car_Colour_Category           2667 non-null   object        \n",
      " 20  Car_Make_Category             2667 non-null   object        \n",
      " 21  Age_Category                  2614 non-null   category      \n",
      " 22  Days Since First Transaction  2667 non-null   int64         \n",
      " 23  Age_No_Pol                    2667 non-null   int64         \n",
      "dtypes: category(1), datetime64[ns](3), int32(4), int64(6), object(10)\n",
      "memory usage: 440.5+ KB\n"
     ]
    }
   ],
   "source": [
    "df.info()"
   ]
  },
  {
   "cell_type": "code",
   "execution_count": 22,
   "metadata": {},
   "outputs": [],
   "source": [
    "# Convert datetime feature to number of days since a certain date\n",
    "df['Policy Start Period'] = (df['Policy Start Date'] - pd.Timestamp('1970-01-01')) / pd.Timedelta('1 day')\n",
    "df['Policy End Period'] = (df['Policy End Date'] - pd.Timestamp('1970-01-01')) / pd.Timedelta('1 day')\n",
    "df['First Transaction Date Period'] = (df['First Transaction Date'] - pd.Timestamp('1970-01-01')) / pd.Timedelta('1 day')"
   ]
  },
  {
   "cell_type": "code",
   "execution_count": 23,
   "metadata": {},
   "outputs": [],
   "source": [
    "def split_data():\n",
    "    X = df.drop([\"target\",'ID','Policy Start Date','Policy End Date', 'First Transaction Date'],axis=1)\n",
    "    y = df[\"target\"] \n",
    "    return train_test_split(X, y,test_size=0.3,random_state =42)"
   ]
  },
  {
   "cell_type": "code",
   "execution_count": 24,
   "metadata": {},
   "outputs": [],
   "source": [
    "def resample():\n",
    "    X_train = split_data()[0]\n",
    "    y_train = split_data()[2]\n",
    "    X_train_over, y_train_over = RandomOverSampler(random_state=42).fit_resample(X_train,y_train)\n",
    "    return X_train_over, y_train_over"
   ]
  },
  {
   "cell_type": "code",
   "execution_count": 25,
   "metadata": {},
   "outputs": [],
   "source": [
    "def build_model(voting=\"hard\"):\n",
    "    estimator = [] \n",
    "    estimator.append(('LR',  \n",
    "                      LogisticRegression(solver ='lbfgs',  \n",
    "                                         multi_class ='multinomial',  \n",
    "                                         max_iter = 200))) \n",
    "    estimator.append(('SVC', SVC(gamma ='auto', probability = True))) \n",
    "    estimator.append(('DTC', DecisionTreeClassifier(max_depth=10))) \n",
    "    estimator.append(('KNN',KNeighborsClassifier()))\n",
    "    estimator.append(('RFC', RandomForestClassifier(random_state=42))) \n",
    "    estimator.append(('GBC', GradientBoostingClassifier()))\n",
    "\n",
    "    # Voting Classifier with hard voting \n",
    "    # Build Model\n",
    "    model = make_pipeline(\n",
    "        OrdinalEncoder(), \n",
    "        RobustScaler(),\n",
    "        VotingClassifier(estimators=estimator, voting=voting) \n",
    "    )\n",
    "    return model"
   ]
  },
  {
   "cell_type": "code",
   "execution_count": 26,
   "metadata": {},
   "outputs": [
    {
     "data": {
      "text/html": [
       "<style>#sk-container-id-1 {color: black;}#sk-container-id-1 pre{padding: 0;}#sk-container-id-1 div.sk-toggleable {background-color: white;}#sk-container-id-1 label.sk-toggleable__label {cursor: pointer;display: block;width: 100%;margin-bottom: 0;padding: 0.3em;box-sizing: border-box;text-align: center;}#sk-container-id-1 label.sk-toggleable__label-arrow:before {content: \"▸\";float: left;margin-right: 0.25em;color: #696969;}#sk-container-id-1 label.sk-toggleable__label-arrow:hover:before {color: black;}#sk-container-id-1 div.sk-estimator:hover label.sk-toggleable__label-arrow:before {color: black;}#sk-container-id-1 div.sk-toggleable__content {max-height: 0;max-width: 0;overflow: hidden;text-align: left;background-color: #f0f8ff;}#sk-container-id-1 div.sk-toggleable__content pre {margin: 0.2em;color: black;border-radius: 0.25em;background-color: #f0f8ff;}#sk-container-id-1 input.sk-toggleable__control:checked~div.sk-toggleable__content {max-height: 200px;max-width: 100%;overflow: auto;}#sk-container-id-1 input.sk-toggleable__control:checked~label.sk-toggleable__label-arrow:before {content: \"▾\";}#sk-container-id-1 div.sk-estimator input.sk-toggleable__control:checked~label.sk-toggleable__label {background-color: #d4ebff;}#sk-container-id-1 div.sk-label input.sk-toggleable__control:checked~label.sk-toggleable__label {background-color: #d4ebff;}#sk-container-id-1 input.sk-hidden--visually {border: 0;clip: rect(1px 1px 1px 1px);clip: rect(1px, 1px, 1px, 1px);height: 1px;margin: -1px;overflow: hidden;padding: 0;position: absolute;width: 1px;}#sk-container-id-1 div.sk-estimator {font-family: monospace;background-color: #f0f8ff;border: 1px dotted black;border-radius: 0.25em;box-sizing: border-box;margin-bottom: 0.5em;}#sk-container-id-1 div.sk-estimator:hover {background-color: #d4ebff;}#sk-container-id-1 div.sk-parallel-item::after {content: \"\";width: 100%;border-bottom: 1px solid gray;flex-grow: 1;}#sk-container-id-1 div.sk-label:hover label.sk-toggleable__label {background-color: #d4ebff;}#sk-container-id-1 div.sk-serial::before {content: \"\";position: absolute;border-left: 1px solid gray;box-sizing: border-box;top: 0;bottom: 0;left: 50%;z-index: 0;}#sk-container-id-1 div.sk-serial {display: flex;flex-direction: column;align-items: center;background-color: white;padding-right: 0.2em;padding-left: 0.2em;position: relative;}#sk-container-id-1 div.sk-item {position: relative;z-index: 1;}#sk-container-id-1 div.sk-parallel {display: flex;align-items: stretch;justify-content: center;background-color: white;position: relative;}#sk-container-id-1 div.sk-item::before, #sk-container-id-1 div.sk-parallel-item::before {content: \"\";position: absolute;border-left: 1px solid gray;box-sizing: border-box;top: 0;bottom: 0;left: 50%;z-index: -1;}#sk-container-id-1 div.sk-parallel-item {display: flex;flex-direction: column;z-index: 1;position: relative;background-color: white;}#sk-container-id-1 div.sk-parallel-item:first-child::after {align-self: flex-end;width: 50%;}#sk-container-id-1 div.sk-parallel-item:last-child::after {align-self: flex-start;width: 50%;}#sk-container-id-1 div.sk-parallel-item:only-child::after {width: 0;}#sk-container-id-1 div.sk-dashed-wrapped {border: 1px dashed gray;margin: 0 0.4em 0.5em 0.4em;box-sizing: border-box;padding-bottom: 0.4em;background-color: white;}#sk-container-id-1 div.sk-label label {font-family: monospace;font-weight: bold;display: inline-block;line-height: 1.2em;}#sk-container-id-1 div.sk-label-container {text-align: center;}#sk-container-id-1 div.sk-container {/* jupyter's `normalize.less` sets `[hidden] { display: none; }` but bootstrap.min.css set `[hidden] { display: none !important; }` so we also need the `!important` here to be able to override the default hidden behavior on the sphinx rendered scikit-learn.org. See: https://github.com/scikit-learn/scikit-learn/issues/21755 */display: inline-block !important;position: relative;}#sk-container-id-1 div.sk-text-repr-fallback {display: none;}</style><div id=\"sk-container-id-1\" class=\"sk-top-container\"><div class=\"sk-text-repr-fallback\"><pre>Pipeline(steps=[(&#x27;ordinalencoder&#x27;, OrdinalEncoder()),\n",
       "                (&#x27;robustscaler&#x27;, RobustScaler()),\n",
       "                (&#x27;votingclassifier&#x27;,\n",
       "                 VotingClassifier(estimators=[(&#x27;LR&#x27;,\n",
       "                                               LogisticRegression(max_iter=200,\n",
       "                                                                  multi_class=&#x27;multinomial&#x27;)),\n",
       "                                              (&#x27;SVC&#x27;,\n",
       "                                               SVC(gamma=&#x27;auto&#x27;,\n",
       "                                                   probability=True)),\n",
       "                                              (&#x27;DTC&#x27;,\n",
       "                                               DecisionTreeClassifier(max_depth=10)),\n",
       "                                              (&#x27;KNN&#x27;, KNeighborsClassifier()),\n",
       "                                              (&#x27;RFC&#x27;,\n",
       "                                               RandomForestClassifier(random_state=42)),\n",
       "                                              (&#x27;GBC&#x27;,\n",
       "                                               GradientBoostingClassifier())]))])</pre><b>In a Jupyter environment, please rerun this cell to show the HTML representation or trust the notebook. <br />On GitHub, the HTML representation is unable to render, please try loading this page with nbviewer.org.</b></div><div class=\"sk-container\" hidden><div class=\"sk-item sk-dashed-wrapped\"><div class=\"sk-label-container\"><div class=\"sk-label sk-toggleable\"><input class=\"sk-toggleable__control sk-hidden--visually\" id=\"sk-estimator-id-1\" type=\"checkbox\" ><label for=\"sk-estimator-id-1\" class=\"sk-toggleable__label sk-toggleable__label-arrow\">Pipeline</label><div class=\"sk-toggleable__content\"><pre>Pipeline(steps=[(&#x27;ordinalencoder&#x27;, OrdinalEncoder()),\n",
       "                (&#x27;robustscaler&#x27;, RobustScaler()),\n",
       "                (&#x27;votingclassifier&#x27;,\n",
       "                 VotingClassifier(estimators=[(&#x27;LR&#x27;,\n",
       "                                               LogisticRegression(max_iter=200,\n",
       "                                                                  multi_class=&#x27;multinomial&#x27;)),\n",
       "                                              (&#x27;SVC&#x27;,\n",
       "                                               SVC(gamma=&#x27;auto&#x27;,\n",
       "                                                   probability=True)),\n",
       "                                              (&#x27;DTC&#x27;,\n",
       "                                               DecisionTreeClassifier(max_depth=10)),\n",
       "                                              (&#x27;KNN&#x27;, KNeighborsClassifier()),\n",
       "                                              (&#x27;RFC&#x27;,\n",
       "                                               RandomForestClassifier(random_state=42)),\n",
       "                                              (&#x27;GBC&#x27;,\n",
       "                                               GradientBoostingClassifier())]))])</pre></div></div></div><div class=\"sk-serial\"><div class=\"sk-item\"><div class=\"sk-estimator sk-toggleable\"><input class=\"sk-toggleable__control sk-hidden--visually\" id=\"sk-estimator-id-2\" type=\"checkbox\" ><label for=\"sk-estimator-id-2\" class=\"sk-toggleable__label sk-toggleable__label-arrow\">OrdinalEncoder</label><div class=\"sk-toggleable__content\"><pre>OrdinalEncoder()</pre></div></div></div><div class=\"sk-item\"><div class=\"sk-estimator sk-toggleable\"><input class=\"sk-toggleable__control sk-hidden--visually\" id=\"sk-estimator-id-3\" type=\"checkbox\" ><label for=\"sk-estimator-id-3\" class=\"sk-toggleable__label sk-toggleable__label-arrow\">RobustScaler</label><div class=\"sk-toggleable__content\"><pre>RobustScaler()</pre></div></div></div><div class=\"sk-item sk-dashed-wrapped\"><div class=\"sk-label-container\"><div class=\"sk-label sk-toggleable\"><input class=\"sk-toggleable__control sk-hidden--visually\" id=\"sk-estimator-id-4\" type=\"checkbox\" ><label for=\"sk-estimator-id-4\" class=\"sk-toggleable__label sk-toggleable__label-arrow\">votingclassifier: VotingClassifier</label><div class=\"sk-toggleable__content\"><pre>VotingClassifier(estimators=[(&#x27;LR&#x27;,\n",
       "                              LogisticRegression(max_iter=200,\n",
       "                                                 multi_class=&#x27;multinomial&#x27;)),\n",
       "                             (&#x27;SVC&#x27;, SVC(gamma=&#x27;auto&#x27;, probability=True)),\n",
       "                             (&#x27;DTC&#x27;, DecisionTreeClassifier(max_depth=10)),\n",
       "                             (&#x27;KNN&#x27;, KNeighborsClassifier()),\n",
       "                             (&#x27;RFC&#x27;, RandomForestClassifier(random_state=42)),\n",
       "                             (&#x27;GBC&#x27;, GradientBoostingClassifier())])</pre></div></div></div><div class=\"sk-parallel\"><div class=\"sk-parallel-item\"><div class=\"sk-item\"><div class=\"sk-label-container\"><div class=\"sk-label sk-toggleable\"><label>LR</label></div></div><div class=\"sk-serial\"><div class=\"sk-item\"><div class=\"sk-estimator sk-toggleable\"><input class=\"sk-toggleable__control sk-hidden--visually\" id=\"sk-estimator-id-5\" type=\"checkbox\" ><label for=\"sk-estimator-id-5\" class=\"sk-toggleable__label sk-toggleable__label-arrow\">LogisticRegression</label><div class=\"sk-toggleable__content\"><pre>LogisticRegression(max_iter=200, multi_class=&#x27;multinomial&#x27;)</pre></div></div></div></div></div></div><div class=\"sk-parallel-item\"><div class=\"sk-item\"><div class=\"sk-label-container\"><div class=\"sk-label sk-toggleable\"><label>SVC</label></div></div><div class=\"sk-serial\"><div class=\"sk-item\"><div class=\"sk-estimator sk-toggleable\"><input class=\"sk-toggleable__control sk-hidden--visually\" id=\"sk-estimator-id-6\" type=\"checkbox\" ><label for=\"sk-estimator-id-6\" class=\"sk-toggleable__label sk-toggleable__label-arrow\">SVC</label><div class=\"sk-toggleable__content\"><pre>SVC(gamma=&#x27;auto&#x27;, probability=True)</pre></div></div></div></div></div></div><div class=\"sk-parallel-item\"><div class=\"sk-item\"><div class=\"sk-label-container\"><div class=\"sk-label sk-toggleable\"><label>DTC</label></div></div><div class=\"sk-serial\"><div class=\"sk-item\"><div class=\"sk-estimator sk-toggleable\"><input class=\"sk-toggleable__control sk-hidden--visually\" id=\"sk-estimator-id-7\" type=\"checkbox\" ><label for=\"sk-estimator-id-7\" class=\"sk-toggleable__label sk-toggleable__label-arrow\">DecisionTreeClassifier</label><div class=\"sk-toggleable__content\"><pre>DecisionTreeClassifier(max_depth=10)</pre></div></div></div></div></div></div><div class=\"sk-parallel-item\"><div class=\"sk-item\"><div class=\"sk-label-container\"><div class=\"sk-label sk-toggleable\"><label>KNN</label></div></div><div class=\"sk-serial\"><div class=\"sk-item\"><div class=\"sk-estimator sk-toggleable\"><input class=\"sk-toggleable__control sk-hidden--visually\" id=\"sk-estimator-id-8\" type=\"checkbox\" ><label for=\"sk-estimator-id-8\" class=\"sk-toggleable__label sk-toggleable__label-arrow\">KNeighborsClassifier</label><div class=\"sk-toggleable__content\"><pre>KNeighborsClassifier()</pre></div></div></div></div></div></div><div class=\"sk-parallel-item\"><div class=\"sk-item\"><div class=\"sk-label-container\"><div class=\"sk-label sk-toggleable\"><label>RFC</label></div></div><div class=\"sk-serial\"><div class=\"sk-item\"><div class=\"sk-estimator sk-toggleable\"><input class=\"sk-toggleable__control sk-hidden--visually\" id=\"sk-estimator-id-9\" type=\"checkbox\" ><label for=\"sk-estimator-id-9\" class=\"sk-toggleable__label sk-toggleable__label-arrow\">RandomForestClassifier</label><div class=\"sk-toggleable__content\"><pre>RandomForestClassifier(random_state=42)</pre></div></div></div></div></div></div><div class=\"sk-parallel-item\"><div class=\"sk-item\"><div class=\"sk-label-container\"><div class=\"sk-label sk-toggleable\"><label>GBC</label></div></div><div class=\"sk-serial\"><div class=\"sk-item\"><div class=\"sk-estimator sk-toggleable\"><input class=\"sk-toggleable__control sk-hidden--visually\" id=\"sk-estimator-id-10\" type=\"checkbox\" ><label for=\"sk-estimator-id-10\" class=\"sk-toggleable__label sk-toggleable__label-arrow\">GradientBoostingClassifier</label><div class=\"sk-toggleable__content\"><pre>GradientBoostingClassifier()</pre></div></div></div></div></div></div></div></div></div></div></div></div>"
      ],
      "text/plain": [
       "Pipeline(steps=[('ordinalencoder', OrdinalEncoder()),\n",
       "                ('robustscaler', RobustScaler()),\n",
       "                ('votingclassifier',\n",
       "                 VotingClassifier(estimators=[('LR',\n",
       "                                               LogisticRegression(max_iter=200,\n",
       "                                                                  multi_class='multinomial')),\n",
       "                                              ('SVC',\n",
       "                                               SVC(gamma='auto',\n",
       "                                                   probability=True)),\n",
       "                                              ('DTC',\n",
       "                                               DecisionTreeClassifier(max_depth=10)),\n",
       "                                              ('KNN', KNeighborsClassifier()),\n",
       "                                              ('RFC',\n",
       "                                               RandomForestClassifier(random_state=42)),\n",
       "                                              ('GBC',\n",
       "                                               GradientBoostingClassifier())]))])"
      ]
     },
     "execution_count": 26,
     "metadata": {},
     "output_type": "execute_result"
    }
   ],
   "source": [
    "BOMBmodel = build_model()\n",
    "BOMBmodel"
   ]
  },
  {
   "cell_type": "code",
   "execution_count": 61,
   "metadata": {},
   "outputs": [
    {
     "data": {
      "text/html": [
       "<style>#sk-container-id-3 {color: black;}#sk-container-id-3 pre{padding: 0;}#sk-container-id-3 div.sk-toggleable {background-color: white;}#sk-container-id-3 label.sk-toggleable__label {cursor: pointer;display: block;width: 100%;margin-bottom: 0;padding: 0.3em;box-sizing: border-box;text-align: center;}#sk-container-id-3 label.sk-toggleable__label-arrow:before {content: \"▸\";float: left;margin-right: 0.25em;color: #696969;}#sk-container-id-3 label.sk-toggleable__label-arrow:hover:before {color: black;}#sk-container-id-3 div.sk-estimator:hover label.sk-toggleable__label-arrow:before {color: black;}#sk-container-id-3 div.sk-toggleable__content {max-height: 0;max-width: 0;overflow: hidden;text-align: left;background-color: #f0f8ff;}#sk-container-id-3 div.sk-toggleable__content pre {margin: 0.2em;color: black;border-radius: 0.25em;background-color: #f0f8ff;}#sk-container-id-3 input.sk-toggleable__control:checked~div.sk-toggleable__content {max-height: 200px;max-width: 100%;overflow: auto;}#sk-container-id-3 input.sk-toggleable__control:checked~label.sk-toggleable__label-arrow:before {content: \"▾\";}#sk-container-id-3 div.sk-estimator input.sk-toggleable__control:checked~label.sk-toggleable__label {background-color: #d4ebff;}#sk-container-id-3 div.sk-label input.sk-toggleable__control:checked~label.sk-toggleable__label {background-color: #d4ebff;}#sk-container-id-3 input.sk-hidden--visually {border: 0;clip: rect(1px 1px 1px 1px);clip: rect(1px, 1px, 1px, 1px);height: 1px;margin: -1px;overflow: hidden;padding: 0;position: absolute;width: 1px;}#sk-container-id-3 div.sk-estimator {font-family: monospace;background-color: #f0f8ff;border: 1px dotted black;border-radius: 0.25em;box-sizing: border-box;margin-bottom: 0.5em;}#sk-container-id-3 div.sk-estimator:hover {background-color: #d4ebff;}#sk-container-id-3 div.sk-parallel-item::after {content: \"\";width: 100%;border-bottom: 1px solid gray;flex-grow: 1;}#sk-container-id-3 div.sk-label:hover label.sk-toggleable__label {background-color: #d4ebff;}#sk-container-id-3 div.sk-serial::before {content: \"\";position: absolute;border-left: 1px solid gray;box-sizing: border-box;top: 0;bottom: 0;left: 50%;z-index: 0;}#sk-container-id-3 div.sk-serial {display: flex;flex-direction: column;align-items: center;background-color: white;padding-right: 0.2em;padding-left: 0.2em;position: relative;}#sk-container-id-3 div.sk-item {position: relative;z-index: 1;}#sk-container-id-3 div.sk-parallel {display: flex;align-items: stretch;justify-content: center;background-color: white;position: relative;}#sk-container-id-3 div.sk-item::before, #sk-container-id-3 div.sk-parallel-item::before {content: \"\";position: absolute;border-left: 1px solid gray;box-sizing: border-box;top: 0;bottom: 0;left: 50%;z-index: -1;}#sk-container-id-3 div.sk-parallel-item {display: flex;flex-direction: column;z-index: 1;position: relative;background-color: white;}#sk-container-id-3 div.sk-parallel-item:first-child::after {align-self: flex-end;width: 50%;}#sk-container-id-3 div.sk-parallel-item:last-child::after {align-self: flex-start;width: 50%;}#sk-container-id-3 div.sk-parallel-item:only-child::after {width: 0;}#sk-container-id-3 div.sk-dashed-wrapped {border: 1px dashed gray;margin: 0 0.4em 0.5em 0.4em;box-sizing: border-box;padding-bottom: 0.4em;background-color: white;}#sk-container-id-3 div.sk-label label {font-family: monospace;font-weight: bold;display: inline-block;line-height: 1.2em;}#sk-container-id-3 div.sk-label-container {text-align: center;}#sk-container-id-3 div.sk-container {/* jupyter's `normalize.less` sets `[hidden] { display: none; }` but bootstrap.min.css set `[hidden] { display: none !important; }` so we also need the `!important` here to be able to override the default hidden behavior on the sphinx rendered scikit-learn.org. See: https://github.com/scikit-learn/scikit-learn/issues/21755 */display: inline-block !important;position: relative;}#sk-container-id-3 div.sk-text-repr-fallback {display: none;}</style><div id=\"sk-container-id-3\" class=\"sk-top-container\"><div class=\"sk-text-repr-fallback\"><pre>Pipeline(steps=[(&#x27;ordinalencoder&#x27;,\n",
       "                 OrdinalEncoder(cols=[&#x27;Car_Category&#x27;, &#x27;Subject_Car_Colour&#x27;,\n",
       "                                      &#x27;Subject_Car_Make&#x27;, &#x27;LGA_Name&#x27;, &#x27;State&#x27;,\n",
       "                                      &#x27;ProductName&#x27;, &#x27;Car_Colour_Make&#x27;,\n",
       "                                      &#x27;Car_Colour_Category&#x27;,\n",
       "                                      &#x27;Car_Make_Category&#x27;, &#x27;Age_Category&#x27;],\n",
       "                                mapping=[{&#x27;col&#x27;: &#x27;Car_Category&#x27;,\n",
       "                                          &#x27;data_type&#x27;: dtype(&#x27;O&#x27;),\n",
       "                                          &#x27;mapping&#x27;: Saloon                      1\n",
       "JEEP                        2\n",
       "Pick Up                     3\n",
       "Shape Of Vehicle Chasis     4\n",
       "Truck                       5\n",
       "Station 4 Wheel             6\n",
       "Bus                         7\n",
       "Min...\n",
       "                (&#x27;robustscaler&#x27;, RobustScaler()),\n",
       "                (&#x27;votingclassifier&#x27;,\n",
       "                 VotingClassifier(estimators=[(&#x27;LR&#x27;,\n",
       "                                               LogisticRegression(max_iter=200,\n",
       "                                                                  multi_class=&#x27;multinomial&#x27;)),\n",
       "                                              (&#x27;SVC&#x27;,\n",
       "                                               SVC(gamma=&#x27;auto&#x27;,\n",
       "                                                   probability=True)),\n",
       "                                              (&#x27;DTC&#x27;,\n",
       "                                               DecisionTreeClassifier(max_depth=10)),\n",
       "                                              (&#x27;KNN&#x27;, KNeighborsClassifier()),\n",
       "                                              (&#x27;RFC&#x27;,\n",
       "                                               RandomForestClassifier(random_state=42)),\n",
       "                                              (&#x27;GBC&#x27;,\n",
       "                                               GradientBoostingClassifier())]))])</pre><b>In a Jupyter environment, please rerun this cell to show the HTML representation or trust the notebook. <br />On GitHub, the HTML representation is unable to render, please try loading this page with nbviewer.org.</b></div><div class=\"sk-container\" hidden><div class=\"sk-item sk-dashed-wrapped\"><div class=\"sk-label-container\"><div class=\"sk-label sk-toggleable\"><input class=\"sk-toggleable__control sk-hidden--visually\" id=\"sk-estimator-id-21\" type=\"checkbox\" ><label for=\"sk-estimator-id-21\" class=\"sk-toggleable__label sk-toggleable__label-arrow\">Pipeline</label><div class=\"sk-toggleable__content\"><pre>Pipeline(steps=[(&#x27;ordinalencoder&#x27;,\n",
       "                 OrdinalEncoder(cols=[&#x27;Car_Category&#x27;, &#x27;Subject_Car_Colour&#x27;,\n",
       "                                      &#x27;Subject_Car_Make&#x27;, &#x27;LGA_Name&#x27;, &#x27;State&#x27;,\n",
       "                                      &#x27;ProductName&#x27;, &#x27;Car_Colour_Make&#x27;,\n",
       "                                      &#x27;Car_Colour_Category&#x27;,\n",
       "                                      &#x27;Car_Make_Category&#x27;, &#x27;Age_Category&#x27;],\n",
       "                                mapping=[{&#x27;col&#x27;: &#x27;Car_Category&#x27;,\n",
       "                                          &#x27;data_type&#x27;: dtype(&#x27;O&#x27;),\n",
       "                                          &#x27;mapping&#x27;: Saloon                      1\n",
       "JEEP                        2\n",
       "Pick Up                     3\n",
       "Shape Of Vehicle Chasis     4\n",
       "Truck                       5\n",
       "Station 4 Wheel             6\n",
       "Bus                         7\n",
       "Min...\n",
       "                (&#x27;robustscaler&#x27;, RobustScaler()),\n",
       "                (&#x27;votingclassifier&#x27;,\n",
       "                 VotingClassifier(estimators=[(&#x27;LR&#x27;,\n",
       "                                               LogisticRegression(max_iter=200,\n",
       "                                                                  multi_class=&#x27;multinomial&#x27;)),\n",
       "                                              (&#x27;SVC&#x27;,\n",
       "                                               SVC(gamma=&#x27;auto&#x27;,\n",
       "                                                   probability=True)),\n",
       "                                              (&#x27;DTC&#x27;,\n",
       "                                               DecisionTreeClassifier(max_depth=10)),\n",
       "                                              (&#x27;KNN&#x27;, KNeighborsClassifier()),\n",
       "                                              (&#x27;RFC&#x27;,\n",
       "                                               RandomForestClassifier(random_state=42)),\n",
       "                                              (&#x27;GBC&#x27;,\n",
       "                                               GradientBoostingClassifier())]))])</pre></div></div></div><div class=\"sk-serial\"><div class=\"sk-item\"><div class=\"sk-estimator sk-toggleable\"><input class=\"sk-toggleable__control sk-hidden--visually\" id=\"sk-estimator-id-22\" type=\"checkbox\" ><label for=\"sk-estimator-id-22\" class=\"sk-toggleable__label sk-toggleable__label-arrow\">OrdinalEncoder</label><div class=\"sk-toggleable__content\"><pre>OrdinalEncoder(cols=[&#x27;Car_Category&#x27;, &#x27;Subject_Car_Colour&#x27;, &#x27;Subject_Car_Make&#x27;,\n",
       "                     &#x27;LGA_Name&#x27;, &#x27;State&#x27;, &#x27;ProductName&#x27;, &#x27;Car_Colour_Make&#x27;,\n",
       "                     &#x27;Car_Colour_Category&#x27;, &#x27;Car_Make_Category&#x27;,\n",
       "                     &#x27;Age_Category&#x27;],\n",
       "               mapping=[{&#x27;col&#x27;: &#x27;Car_Category&#x27;, &#x27;data_type&#x27;: dtype(&#x27;O&#x27;),\n",
       "                         &#x27;mapping&#x27;: Saloon                      1\n",
       "JEEP                        2\n",
       "Pick Up                     3\n",
       "Shape Of Vehicle Chasis     4\n",
       "Truck                       5\n",
       "Station 4 Wheel             6\n",
       "Bus                         7\n",
       "Mini Bus                    8\n",
       "Motorcycle                  9\n",
       "Mini Van                   10\n",
       "Sedan                      11\n",
       "Wa...\n",
       "                         &#x27;mapping&#x27;: TOYOTA_Saloon        1\n",
       "Ford_JEEP            2\n",
       "Mercedes_Saloon      3\n",
       "TOYOTA_JEEP          4\n",
       "Honda_JEEP           5\n",
       "                    ..\n",
       "Volkswagen_Wagon    79\n",
       "Pontiac_Saloon      80\n",
       "Kia_Mini Van        81\n",
       "GMC_JEEP            82\n",
       "NaN                 -2\n",
       "Length: 83, dtype: int64},\n",
       "                        {&#x27;col&#x27;: &#x27;Age_Category&#x27;,\n",
       "                         &#x27;data_type&#x27;: CategoricalDtype(categories=[&#x27;Child&#x27;, &#x27;Young Adult&#x27;, &#x27;Adult&#x27;, &#x27;Senior&#x27;], ordered=True, categories_dtype=object),\n",
       "                         &#x27;mapping&#x27;: Child          1\n",
       "Young Adult    2\n",
       "Adult          3\n",
       "Senior         4\n",
       "NaN            5\n",
       "dtype: int64}])</pre></div></div></div><div class=\"sk-item\"><div class=\"sk-estimator sk-toggleable\"><input class=\"sk-toggleable__control sk-hidden--visually\" id=\"sk-estimator-id-23\" type=\"checkbox\" ><label for=\"sk-estimator-id-23\" class=\"sk-toggleable__label sk-toggleable__label-arrow\">RobustScaler</label><div class=\"sk-toggleable__content\"><pre>RobustScaler()</pre></div></div></div><div class=\"sk-item sk-dashed-wrapped\"><div class=\"sk-label-container\"><div class=\"sk-label sk-toggleable\"><input class=\"sk-toggleable__control sk-hidden--visually\" id=\"sk-estimator-id-24\" type=\"checkbox\" ><label for=\"sk-estimator-id-24\" class=\"sk-toggleable__label sk-toggleable__label-arrow\">votingclassifier: VotingClassifier</label><div class=\"sk-toggleable__content\"><pre>VotingClassifier(estimators=[(&#x27;LR&#x27;,\n",
       "                              LogisticRegression(max_iter=200,\n",
       "                                                 multi_class=&#x27;multinomial&#x27;)),\n",
       "                             (&#x27;SVC&#x27;, SVC(gamma=&#x27;auto&#x27;, probability=True)),\n",
       "                             (&#x27;DTC&#x27;, DecisionTreeClassifier(max_depth=10)),\n",
       "                             (&#x27;KNN&#x27;, KNeighborsClassifier()),\n",
       "                             (&#x27;RFC&#x27;, RandomForestClassifier(random_state=42)),\n",
       "                             (&#x27;GBC&#x27;, GradientBoostingClassifier())])</pre></div></div></div><div class=\"sk-parallel\"><div class=\"sk-parallel-item\"><div class=\"sk-item\"><div class=\"sk-label-container\"><div class=\"sk-label sk-toggleable\"><label>LR</label></div></div><div class=\"sk-serial\"><div class=\"sk-item\"><div class=\"sk-estimator sk-toggleable\"><input class=\"sk-toggleable__control sk-hidden--visually\" id=\"sk-estimator-id-25\" type=\"checkbox\" ><label for=\"sk-estimator-id-25\" class=\"sk-toggleable__label sk-toggleable__label-arrow\">LogisticRegression</label><div class=\"sk-toggleable__content\"><pre>LogisticRegression(max_iter=200, multi_class=&#x27;multinomial&#x27;)</pre></div></div></div></div></div></div><div class=\"sk-parallel-item\"><div class=\"sk-item\"><div class=\"sk-label-container\"><div class=\"sk-label sk-toggleable\"><label>SVC</label></div></div><div class=\"sk-serial\"><div class=\"sk-item\"><div class=\"sk-estimator sk-toggleable\"><input class=\"sk-toggleable__control sk-hidden--visually\" id=\"sk-estimator-id-26\" type=\"checkbox\" ><label for=\"sk-estimator-id-26\" class=\"sk-toggleable__label sk-toggleable__label-arrow\">SVC</label><div class=\"sk-toggleable__content\"><pre>SVC(gamma=&#x27;auto&#x27;, probability=True)</pre></div></div></div></div></div></div><div class=\"sk-parallel-item\"><div class=\"sk-item\"><div class=\"sk-label-container\"><div class=\"sk-label sk-toggleable\"><label>DTC</label></div></div><div class=\"sk-serial\"><div class=\"sk-item\"><div class=\"sk-estimator sk-toggleable\"><input class=\"sk-toggleable__control sk-hidden--visually\" id=\"sk-estimator-id-27\" type=\"checkbox\" ><label for=\"sk-estimator-id-27\" class=\"sk-toggleable__label sk-toggleable__label-arrow\">DecisionTreeClassifier</label><div class=\"sk-toggleable__content\"><pre>DecisionTreeClassifier(max_depth=10)</pre></div></div></div></div></div></div><div class=\"sk-parallel-item\"><div class=\"sk-item\"><div class=\"sk-label-container\"><div class=\"sk-label sk-toggleable\"><label>KNN</label></div></div><div class=\"sk-serial\"><div class=\"sk-item\"><div class=\"sk-estimator sk-toggleable\"><input class=\"sk-toggleable__control sk-hidden--visually\" id=\"sk-estimator-id-28\" type=\"checkbox\" ><label for=\"sk-estimator-id-28\" class=\"sk-toggleable__label sk-toggleable__label-arrow\">KNeighborsClassifier</label><div class=\"sk-toggleable__content\"><pre>KNeighborsClassifier()</pre></div></div></div></div></div></div><div class=\"sk-parallel-item\"><div class=\"sk-item\"><div class=\"sk-label-container\"><div class=\"sk-label sk-toggleable\"><label>RFC</label></div></div><div class=\"sk-serial\"><div class=\"sk-item\"><div class=\"sk-estimator sk-toggleable\"><input class=\"sk-toggleable__control sk-hidden--visually\" id=\"sk-estimator-id-29\" type=\"checkbox\" ><label for=\"sk-estimator-id-29\" class=\"sk-toggleable__label sk-toggleable__label-arrow\">RandomForestClassifier</label><div class=\"sk-toggleable__content\"><pre>RandomForestClassifier(random_state=42)</pre></div></div></div></div></div></div><div class=\"sk-parallel-item\"><div class=\"sk-item\"><div class=\"sk-label-container\"><div class=\"sk-label sk-toggleable\"><label>GBC</label></div></div><div class=\"sk-serial\"><div class=\"sk-item\"><div class=\"sk-estimator sk-toggleable\"><input class=\"sk-toggleable__control sk-hidden--visually\" id=\"sk-estimator-id-30\" type=\"checkbox\" ><label for=\"sk-estimator-id-30\" class=\"sk-toggleable__label sk-toggleable__label-arrow\">GradientBoostingClassifier</label><div class=\"sk-toggleable__content\"><pre>GradientBoostingClassifier()</pre></div></div></div></div></div></div></div></div></div></div></div></div>"
      ],
      "text/plain": [
       "Pipeline(steps=[('ordinalencoder',\n",
       "                 OrdinalEncoder(cols=['Car_Category', 'Subject_Car_Colour',\n",
       "                                      'Subject_Car_Make', 'LGA_Name', 'State',\n",
       "                                      'ProductName', 'Car_Colour_Make',\n",
       "                                      'Car_Colour_Category',\n",
       "                                      'Car_Make_Category', 'Age_Category'],\n",
       "                                mapping=[{'col': 'Car_Category',\n",
       "                                          'data_type': dtype('O'),\n",
       "                                          'mapping': Saloon                      1\n",
       "JEEP                        2\n",
       "Pick Up                     3\n",
       "Shape Of Vehicle Chasis     4\n",
       "Truck                       5\n",
       "Station 4 Wheel             6\n",
       "Bus                         7\n",
       "Min...\n",
       "                ('robustscaler', RobustScaler()),\n",
       "                ('votingclassifier',\n",
       "                 VotingClassifier(estimators=[('LR',\n",
       "                                               LogisticRegression(max_iter=200,\n",
       "                                                                  multi_class='multinomial')),\n",
       "                                              ('SVC',\n",
       "                                               SVC(gamma='auto',\n",
       "                                                   probability=True)),\n",
       "                                              ('DTC',\n",
       "                                               DecisionTreeClassifier(max_depth=10)),\n",
       "                                              ('KNN', KNeighborsClassifier()),\n",
       "                                              ('RFC',\n",
       "                                               RandomForestClassifier(random_state=42)),\n",
       "                                              ('GBC',\n",
       "                                               GradientBoostingClassifier())]))])"
      ]
     },
     "execution_count": 61,
     "metadata": {},
     "output_type": "execute_result"
    }
   ],
   "source": [
    "TOADmodel = build_model()\n",
    "X_train_over, y_train_over = resample()\n",
    "TOADmodel.fit(X_train_over, y_train_over)"
   ]
  },
  {
   "cell_type": "code",
   "execution_count": 28,
   "metadata": {},
   "outputs": [],
   "source": [
    "X_train, X_test, y_train, y_test = split_data()"
   ]
  },
  {
   "cell_type": "code",
   "execution_count": 63,
   "metadata": {},
   "outputs": [
    {
     "name": "stdout",
     "output_type": "stream",
     "text": [
      "Test Accuracy: 0.69\n"
     ]
    }
   ],
   "source": [
    "y_pred = TOADmodel.predict(X_test)\n",
    "print(\"Test Accuracy:\", round(accuracy_score(y_test, y_pred), 2))"
   ]
  },
  {
   "cell_type": "code",
   "execution_count": 62,
   "metadata": {},
   "outputs": [
    {
     "name": "stdout",
     "output_type": "stream",
     "text": [
      "Train Accuracy: 0.84\n"
     ]
    }
   ],
   "source": [
    "print(\"Train Accuracy:\", round(TOADmodel.score(X_train, y_train), 2))"
   ]
  },
  {
   "cell_type": "code",
   "execution_count": 64,
   "metadata": {},
   "outputs": [
    {
     "name": "stdout",
     "output_type": "stream",
     "text": [
      "              precision    recall  f1-score   support\n",
      "\n",
      "           0       0.84      0.77      0.80       653\n",
      "           1       0.25      0.34      0.29       148\n",
      "\n",
      "    accuracy                           0.69       801\n",
      "   macro avg       0.54      0.55      0.54       801\n",
      "weighted avg       0.73      0.69      0.71       801\n",
      "\n"
     ]
    }
   ],
   "source": [
    "print(classification_report(y_test,TOADmodel.predict(X_test)))"
   ]
  },
  {
   "cell_type": "code",
   "execution_count": 35,
   "metadata": {},
   "outputs": [
    {
     "data": {
      "text/plain": [
       "['Gender',\n",
       " 'Age',\n",
       " 'No_Pol',\n",
       " 'Car_Category',\n",
       " 'Subject_Car_Colour',\n",
       " 'Subject_Car_Make',\n",
       " 'LGA_Name',\n",
       " 'State',\n",
       " 'ProductName',\n",
       " 'Policy Duration',\n",
       " 'Policy Start Year',\n",
       " 'Policy Start Month',\n",
       " 'Policy Start Day of Week',\n",
       " 'Car_Colour_Make',\n",
       " 'Car_Colour_Category',\n",
       " 'Car_Make_Category',\n",
       " 'Age_Category',\n",
       " 'Days Since First Transaction',\n",
       " 'Age_No_Pol',\n",
       " 'Policy Start Period',\n",
       " 'Policy End Period',\n",
       " 'First Transaction Date Period']"
      ]
     },
     "execution_count": 35,
     "metadata": {},
     "output_type": "execute_result"
    }
   ],
   "source": [
    "TOADmodel.feature_names_in_"
   ]
  },
  {
   "cell_type": "code",
   "execution_count": 36,
   "metadata": {},
   "outputs": [
    {
     "data": {
      "text/plain": [
       "Index(['Gender', 'Age', 'No_Pol', 'Car_Category', 'Subject_Car_Colour',\n",
       "       'Subject_Car_Make', 'LGA_Name', 'State', 'ProductName',\n",
       "       'Policy Duration', 'Policy Start Year', 'Policy Start Month',\n",
       "       'Policy Start Day of Week', 'Car_Colour_Make', 'Car_Colour_Category',\n",
       "       'Car_Make_Category', 'Age_Category', 'Days Since First Transaction',\n",
       "       'Age_No_Pol', 'Policy Start Period', 'Policy End Period',\n",
       "       'First Transaction Date Period'],\n",
       "      dtype='object')"
      ]
     },
     "execution_count": 36,
     "metadata": {},
     "output_type": "execute_result"
    }
   ],
   "source": [
    "X_train_over.columns"
   ]
  },
  {
   "cell_type": "code",
   "execution_count": 38,
   "metadata": {},
   "outputs": [
    {
     "data": {
      "text/plain": [
       "True"
      ]
     },
     "execution_count": 38,
     "metadata": {},
     "output_type": "execute_result"
    }
   ],
   "source": [
    "# Checking to see if the features are same as the training data columns\n",
    "all(TOADmodel.feature_names_in_) == all(X_train_over.columns)"
   ]
  },
  {
   "cell_type": "code",
   "execution_count": 39,
   "metadata": {},
   "outputs": [
    {
     "data": {
      "text/plain": [
       "[LogisticRegression(max_iter=200, multi_class='multinomial'),\n",
       " SVC(gamma='auto', probability=True),\n",
       " DecisionTreeClassifier(max_depth=10),\n",
       " KNeighborsClassifier(),\n",
       " RandomForestClassifier(random_state=42),\n",
       " GradientBoostingClassifier()]"
      ]
     },
     "execution_count": 39,
     "metadata": {},
     "output_type": "execute_result"
    }
   ],
   "source": [
    "TOADmodel.named_steps[\"votingclassifier\"].estimators_"
   ]
  },
  {
   "cell_type": "code",
   "execution_count": 65,
   "metadata": {},
   "outputs": [],
   "source": [
    "for model in TOADmodel.named_steps[\"votingclassifier\"].estimators_:\n",
    "    if hasattr(TOADmodel, 'feature_importances_'):\n",
    "        feature_importances_model = TOADmodel.feature_importances_"
   ]
  },
  {
   "cell_type": "code",
   "execution_count": 66,
   "metadata": {},
   "outputs": [
    {
     "name": "stdout",
     "output_type": "stream",
     "text": [
      "{'ordinalencoder': OrdinalEncoder(cols=['Car_Category', 'Subject_Car_Colour', 'Subject_Car_Make',\n",
      "                     'LGA_Name', 'State', 'ProductName', 'Car_Colour_Make',\n",
      "                     'Car_Colour_Category', 'Car_Make_Category',\n",
      "                     'Age_Category'],\n",
      "               mapping=[{'col': 'Car_Category', 'data_type': dtype('O'),\n",
      "                         'mapping': Saloon                      1\n",
      "JEEP                        2\n",
      "Pick Up                     3\n",
      "Shape Of Vehicle Chasis     4\n",
      "Truck                       5\n",
      "Station 4 Wheel             6\n",
      "Bus                         7\n",
      "Mini Bus                    8\n",
      "Motorcycle                  9\n",
      "Mini Van                   10\n",
      "Sedan                      11\n",
      "Wa...\n",
      "                         'mapping': TOYOTA_Saloon        1\n",
      "Ford_JEEP            2\n",
      "Mercedes_Saloon      3\n",
      "TOYOTA_JEEP          4\n",
      "Honda_JEEP           5\n",
      "                    ..\n",
      "Volkswagen_Wagon    79\n",
      "Pontiac_Saloon      80\n",
      "Kia_Mini Van        81\n",
      "GMC_JEEP            82\n",
      "NaN                 -2\n",
      "Length: 83, dtype: int64},\n",
      "                        {'col': 'Age_Category',\n",
      "                         'data_type': CategoricalDtype(categories=['Child', 'Young Adult', 'Adult', 'Senior'], ordered=True, categories_dtype=object),\n",
      "                         'mapping': Child          1\n",
      "Young Adult    2\n",
      "Adult          3\n",
      "Senior         4\n",
      "NaN            5\n",
      "dtype: int64}]), 'robustscaler': RobustScaler(), 'votingclassifier': VotingClassifier(estimators=[('LR',\n",
      "                              LogisticRegression(max_iter=200,\n",
      "                                                 multi_class='multinomial')),\n",
      "                             ('SVC', SVC(gamma='auto', probability=True)),\n",
      "                             ('DTC', DecisionTreeClassifier(max_depth=10)),\n",
      "                             ('KNN', KNeighborsClassifier()),\n",
      "                             ('RFC', RandomForestClassifier(random_state=42)),\n",
      "                             ('GBC', GradientBoostingClassifier())])}\n"
     ]
    }
   ],
   "source": [
    "print(TOADmodel.named_steps)"
   ]
  },
  {
   "cell_type": "code",
   "execution_count": 69,
   "metadata": {},
   "outputs": [],
   "source": [
    "from sklearn.inspection import permutation_importance\n",
    "\n",
    "# Fit your pipeline on the training data\n",
    "TOADmodel.fit(X_train_over, y_train_over)\n",
    "\n",
    "# Calculate permutation importances\n",
    "result = permutation_importance(TOADmodel, X_test, y_test, n_repeats=10, random_state=42, n_jobs=2)\n",
    "\n",
    "# Get feature importances\n",
    "feature_importances = result.importances_mean\n",
    "\n",
    "# Create a series with feature names and importances\n",
    "feat_imp = pd.Series(feature_importances, index=features).sort_values(ascending=False)"
   ]
  },
  {
   "cell_type": "code",
   "execution_count": null,
   "metadata": {},
   "outputs": [],
   "source": [
    "# Get feature names from training data\n",
    "features = X_train_over.columns\n",
    "\n",
    "# Get feature importances from the model\n",
    "feature_importances = TOADmodel.named_steps['GBC'].feature_importances_\n",
    "\n",
    "# Create a series with feature names and importances\n",
    "feat_imp = pd.Series(feature_importances, index=features).sort_values(ascending=False)"
   ]
  },
  {
   "cell_type": "code",
   "execution_count": null,
   "metadata": {},
   "outputs": [],
   "source": [
    "# Get feature names from training data\n",
    "features = TOADmodel.feature_names_in_\n",
    "\n",
    "# Get feature importances from the model\n",
    "feature_importances = TOADmodel.feature_importances_\n",
    "\n",
    "# Create a series with feature names and importances\n",
    "feat_imp = pd.Series(feature_importances, index=features).sort_values(ascending=False)"
   ]
  },
  {
   "cell_type": "code",
   "execution_count": null,
   "metadata": {},
   "outputs": [],
   "source": [
    "# Get feature names from training data\n",
    "features = TOADmodel.feature_names_in_\n",
    "\n",
    "# Create a series with feature names and importances\n",
    "feat_imp = pd.Series(feature_importances_model,index=features).sort_values(ascending=False)"
   ]
  },
  {
   "cell_type": "code",
   "execution_count": 70,
   "metadata": {},
   "outputs": [
    {
     "data": {
      "image/png": "[encoded data removed]",
      "text/plain": [
       "<Figure size 1000x800 with 1 Axes>"
      ]
     },
     "metadata": {},
     "output_type": "display_data"
    }
   ],
   "source": [
    "# Create a horizontal bar plot\n",
    "plt.figure(figsize=(10,8))\n",
    "sns.barplot(x=feat_imp.values, y=feat_imp.index, orient='h',color=sns.color_palette()[0])\n",
    "plt.xlabel(\"Gini Importance\")\n",
    "plt.ylabel(\"Features\")\n",
    "plt.title(\"Feature Importance\");"
   ]
  },
  {
   "cell_type": "code",
   "execution_count": 71,
   "metadata": {},
   "outputs": [],
   "source": [
    "#save all model to disk\n",
    "filename = 'BOMBmodel.sav'\n",
    "pickle.dump(BOMBmodel, open(filename, 'wb'))"
   ]
  },
  {
   "cell_type": "code",
   "execution_count": 72,
   "metadata": {},
   "outputs": [],
   "source": [
    "#save TOADmodel to disk\n",
    "filename = 'TOADmodel.sav'\n",
    "pickle.dump(TOADmodel, open(filename, 'wb'))"
   ]
  },
  {
   "cell_type": "code",
   "execution_count": null,
   "metadata": {},
   "outputs": [],
   "source": []
  }
 ],
 "metadata": {
  "kernelspec": {
   "display_name": "Python 3",
   "language": "python",
   "name": "python3"
  },
  "language_info": {
   "codemirror_mode": {
    "name": "ipython",
    "version": 3
   },
   "file_extension": ".py",
   "mimetype": "text/x-python",
   "name": "python",
   "nbconvert_exporter": "python",
   "pygments_lexer": "ipython3",
   "version": "3.11.6"
  }
 },
 "nbformat": 4,
 "nbformat_minor": 2
}
