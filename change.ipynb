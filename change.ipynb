{
 "cells": [
  {
   "cell_type": "code",
   "execution_count": 1,
   "metadata": {},
   "outputs": [],
   "source": [
    "import os"
   ]
  },
  {
   "cell_type": "code",
   "execution_count": 2,
   "metadata": {},
   "outputs": [
    {
     "name": "stdout",
     "output_type": "stream",
     "text": [
      "C:\\Users\\YourUsername\\AppData\\Roaming\\Python\\PythonXX\\Scripts\n"
     ]
    }
   ],
   "source": [
    "import os\n",
    "\n",
    "# Get the path to the site-packages directory\n",
    "site_packages_path = \"C:\\\\Users\\\\YourUsername\\\\AppData\\\\Roaming\\\\Python\\\\PythonXX\\\\site-packages\"\n",
    "\n",
    "# Split the path into a head and tail\n",
    "head, _ = os.path.split(site_packages_path)\n",
    "\n",
    "# Add 'Scripts' to the end of the path\n",
    "scripts_path = os.path.join(head, 'Scripts')\n",
    "\n",
    "print(scripts_path)"
   ]
  },
  {
   "cell_type": "code",
   "execution_count": 3,
   "metadata": {},
   "outputs": [
    {
     "name": "stdout",
     "output_type": "stream",
     "text": [
      "C:\\Users\\YourUsername\\AppData\\Roaming\\Python\\PythonXX\\Scripts is not in the PATH\n"
     ]
    }
   ],
   "source": [
    "# Get the current PATH\n",
    "path = os.environ['PATH']\n",
    "\n",
    "# Split the PATH into a list of directories\n",
    "directories = path.split(os.pathsep)\n",
    "\n",
    "# Check if the Scripts directory is in the PATH\n",
    "if scripts_path in directories:\n",
    "    print(f\"{scripts_path} is in the PATH\")\n",
    "else:\n",
    "    print(f\"{scripts_path} is not in the PATH\")"
   ]
  },
  {
   "cell_type": "code",
   "execution_count": 6,
   "metadata": {},
   "outputs": [
    {
     "name": "stdout",
     "output_type": "stream",
     "text": [
      "C:\\Users\\YourUsername\\AppData\\Roaming\\Python\\PythonXX\\Scripts is not in the PATH\n"
     ]
    }
   ],
   "source": [
    "# Get the current PATH\n",
    "path = os.environ['PATH']\n",
    "\n",
    "# Split the PATH into a list of directories\n",
    "directories = path.split(os.pathsep)\n",
    "\n",
    "# Check if the Scripts directory is in the PATH\n",
    "if scripts_path in directories:\n",
    "    print(f\"{scripts_path} is in the PATH\")\n",
    "else:\n",
    "    print(f\"{scripts_path} is not in the PATH\")"
   ]
  },
  {
   "cell_type": "code",
   "execution_count": null,
   "metadata": {},
   "outputs": [],
   "source": []
  }
 ],
 "metadata": {
  "kernelspec": {
   "display_name": "Python 3",
   "language": "python",
   "name": "python3"
  },
  "language_info": {
   "codemirror_mode": {
    "name": "ipython",
    "version": 3
   },
   "file_extension": ".py",
   "mimetype": "text/x-python",
   "name": "python",
   "nbconvert_exporter": "python",
   "pygments_lexer": "ipython3",
   "version": "3.11.6"
  }
 },
 "nbformat": 4,
 "nbformat_minor": 2
}
